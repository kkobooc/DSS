{
 "cells": [
  {
   "cell_type": "markdown",
   "metadata": {},
   "source": [
    "### 네이버 API 샘플"
   ]
  },
  {
   "cell_type": "code",
   "execution_count": 1,
   "metadata": {
    "scrolled": true
   },
   "outputs": [
    {
     "name": "stdout",
     "output_type": "stream",
     "text": [
      "{\n",
      "\"lastBuildDate\": \"Mon, 02 Nov 2020 13:30:26 +0900\",\n",
      "\"total\": 40882,\n",
      "\"start\": 1,\n",
      "\"display\": 10,\n",
      "\"items\": [\n",
      "{\n",
      "\"title\": \"Book Depository에서 <b>몰스킨</b> 직구하기\",\n",
      "\"link\": \"https:\\/\\/blog.naver.com\\/kimeunsol95?Redirect=Log&logNo=221729869088\",\n",
      "\"description\": \"2020년부터 <b>몰스킨</b> 모으기 도전^*^ 동네 교보문고에서 이것저것 만져보고 다른 사람들은 뭐 쓰나 검색도 해보면서 그렇게 한 달을 고민한 결과 내가 고른 다이어리는 <b>몰스킨</b> 데일리 포켓 블랙 하드커버... \",\n",
      "\"bloggername\": \"은솔리튜드\",\n",
      "\"bloggerlink\": \"https://blog.naver.com/kimeunsol95\",\n",
      "\"postdate\": \"20191207\"\n",
      "\n",
      "},\n",
      "{\n",
      "\"title\": \"2021년 다이어리, 10년째 <b>몰스킨</b> (내가 쓰는 노트)\",\n",
      "\"link\": \"https:\\/\\/blog.naver.com\\/merry_mayy?Redirect=Log&logNo=222125200633\",\n",
      "\"description\": \"아무리 고민해도 어차피 정답은 <b>몰스킨</b> ! ! ! 대학교 3-4학년 무렵부터 쓰기 시작했으니, 벌써 <b>몰스킨</b>과 나와의 인연도 얼추 10년이 되어간다. 그간 양지사, 무인양품, 윈키아 등 다이어리로 유명한 타사 제품으로... \",\n",
      "\"bloggername\": \"단순한 삶과 가벼운 일상\",\n",
      "\"bloggerlink\": \"https://blog.naver.com/merry_mayy\",\n",
      "\"postdate\": \"20201024\"\n",
      "\n",
      "},\n",
      "{\n",
      "\"title\": \"앨리스 in 이탈리아 밀라노 여행:: <b>몰스킨</b> 카페♥\",\n",
      "\"link\": \"https:\\/\\/blog.naver.com\\/punky85?Redirect=Log&logNo=221628079122\",\n",
      "\"description\": \"<b>몰스킨</b>도 카페가 있어요 이탈리아 밀라노를 여행하며 꼭 들르고 싶었던 곳. 바로 <b>몰스킨</b>(Moleskine)의 카페예요. 앨리스가 일기 쓰기, 필기 등을 하는 바로 그 노트 브랜드인 <b>몰스킨</b>. <b>몰스킨</b> 카페는 <b>몰스킨</b> 제품을... \",\n",
      "\"bloggername\": \"앨리스 일상나들이\",\n",
      "\"bloggerlink\": \"https://blog.naver.com/punky85\",\n",
      "\"postdate\": \"20190825\"\n",
      "\n",
      "},\n",
      "{\n",
      "\"title\": \"내년도 어김없이 <b>몰스킨</b> 먼슬리 다이어리 2021\",\n",
      "\"link\": \"https:\\/\\/blog.naver.com\\/7munbin?Redirect=Log&logNo=222122577236\",\n",
      "\"description\": \"바로 <b>몰스킨</b> 먼슬리 다이어리 구매 이야기예용 제가 매년 한 번씩 포스팅을 하고 있지만, 내년도 어김없이 <b>몰스킨</b> 다이어리랍니다. 소프트커버의 라지 사이즈지요 ㅋㅋ 사실 구입은 추석 직전이었나? 그 때... \",\n",
      "\"bloggername\": \"아샤의 즐거운 하루\",\n",
      "\"bloggerlink\": \"https://blog.naver.com/7munbin\",\n",
      "\"postdate\": \"20201021\"\n",
      "\n",
      "},\n",
      "{\n",
      "\"title\": \"2021 <b>몰스킨</b> 데일리 포켓 하드커버 머틀그린\",\n",
      "\"link\": \"https:\\/\\/blog.naver.com\\/soyoung7_7?Redirect=Log&logNo=222124740846\",\n",
      "\"description\": \"나의 블로그 히스토리를 보니 올해로 9년째 <b>몰스킨</b> 일기장을 쓰고 있다. 아니 그럼 서른 살에 열 번째 <b>몰스킨</b>? (또 의미부여;;) 그러고 보면 새삼 나는 참 변화를 즐기지 않는 타입 같다. 물론 <b>몰스킨</b>의 견고한... \",\n",
      "\"bloggername\": \"숑알숑알 블로그\",\n",
      "\"bloggerlink\": \"https://blog.naver.com/soyoung7_7\",\n",
      "\"postdate\": \"20201024\"\n",
      "\n",
      "},\n",
      "{\n",
      "\"title\": \"<b>몰스킨</b> 다이어리를 바라보는 김간식의 관점\",\n",
      "\"link\": \"https:\\/\\/blog.naver.com\\/hanainde?Redirect=Log&logNo=222127286386\",\n",
      "\"description\": \"10권의 우중충한 회사 다이어리 생활을 청산하고, 올해부터 스타벅스에서 이벤트로 받은 <b>몰스킨</b> 데일리 다이어리를 잘 쓰고 있다. 내년에도 회사 다이어리 대신 연말에 나올 스타벅스 <b>몰스킨</b> 다이어리를 쓸... \",\n",
      "\"bloggername\": \"전력소년노트\",\n",
      "\"bloggerlink\": \"https://blog.naver.com/hanainde\",\n",
      "\"postdate\": \"20201026\"\n",
      "\n",
      "},\n",
      "{\n",
      "\"title\": \"<b>몰스킨</b> 해리포터 에디션 구입후기 ♥\",\n",
      "\"link\": \"https:\\/\\/blog.naver.com\\/pinkbomi?Redirect=Log&logNo=222012874421\",\n",
      "\"description\": \"해리포터는 사랑이지 소리 질러~~ <b>몰스킨</b> 해리포터 에디션 구입! 솔직히 <b>몰스킨</b> 이라고 하면, 잘 모르는 사람이 대부분이다. <b>몰스킨</b>을 아는 사람이면, 문구류에 관심이 많거나, 그림 그리시는 분이거나... \",\n",
      "\"bloggername\": \"봄봄a의 여행 다이어리\",\n",
      "\"bloggerlink\": \"https://blog.naver.com/pinkbomi\",\n",
      "\"postdate\": \"20200626\"\n",
      "\n",
      "},\n",
      "{\n",
      "\"title\": \"<b>몰스킨</b> 무지노트 일기장으로 써야지\",\n",
      "\"link\": \"https:\\/\\/blog.naver.com\\/minnie926?Redirect=Log&logNo=222079254668\",\n",
      "\"description\": \"<b>몰스킨</b> 무지노트 이런거 좀 써봤다 하는 사람들 아마 MOLESKINE 다 알걸?? 종이 질도 좋고 커버도 튼실하니... <b>몰스킨</b> 위클리 다이어리도 있지만 월, 일자 별로 일정을 정리할 게 아니라 일기장으로 쓸 예정이라... \",\n",
      "\"bloggername\": \"슬기로운 나의 생활이랄까\",\n",
      "\"bloggerlink\": \"https://blog.naver.com/minnie926\",\n",
      "\"postdate\": \"20200903\"\n",
      "\n",
      "},\n",
      "{\n",
      "\"title\": \"2021 <b>몰스킨</b> 어린왕자 : 위클리 포켓 사이즈 / <b>몰스킨</b> 실물... \",\n",
      "\"link\": \"https:\\/\\/blog.naver.com\\/hjcj0725?Redirect=Log&logNo=222096326020\",\n",
      "\"description\": \"2021 <b>몰스킨</b> 어린왕자 위클리 포켓 사이즈 <b>몰스킨</b> 실물, 2020과 비교 2021 다이어리 고민 끝에 드디어 결정을 내렸다. 고민 내용은 아래 링크에 ⬇️ <b>몰스킨</b> 오프라인 매장에서 실물 확인 무보정사진 2021... \",\n",
      "\"bloggername\": \"♪\",\n",
      "\"bloggerlink\": \"https://blog.naver.com/hjcj0725\",\n",
      "\"postdate\": \"20200922\"\n",
      "\n",
      "},\n",
      "{\n",
      "\"title\": \"[파리] 10. 마레지구 산책 (페이퍼보이/포펠리니/마리아쥬/<b>몰스킨</b>)\",\n",
      "\"link\": \"https:\\/\\/blog.naver.com\\/godl77?Redirect=Log&logNo=222057934438\",\n",
      "\"description\": \"있는 <b>몰스킨</b> 미니사이즈의 노트를 샀다 :) 이 작은 노트가 이 가격에? 좀 비싸지 않은가 잠깐 고민했지만... <b>몰스킨</b>을 애용하게 된게. 종이 질도 좋고, 튼튼하고, 전 세계 어디에서든 똑같은 규격의 노트를 살 수... \",\n",
      "\"bloggername\": \"Slow and Steady\",\n",
      "\"bloggerlink\": \"https://blog.naver.com/godl77\",\n",
      "\"postdate\": \"20200811\"\n",
      "\n",
      "}\n",
      "]\n",
      "}\n",
      "\n"
     ]
    }
   ],
   "source": [
    "# 네이버 검색 API예제는 블로그를 비롯 전문자료까지 호출방법이 동일하므로 blog검색만 대표로 예제를 올렸습니다.\n",
    "# 네이버 검색 Open API 예제 - 블로그 검색\n",
    "import os\n",
    "import sys\n",
    "import urllib.request\n",
    "client_id = \"1J8AA25gNpLQl6ddcR8l\"\n",
    "client_secret = \"HOYGXlyWjm\"\n",
    "encText = urllib.parse.quote(\"몰스킨\")\n",
    "url = \"https://openapi.naver.com/v1/search/blog?query=\" + encText # json 결과\n",
    "# url = \"https://openapi.naver.com/v1/search/blog.xml?query=\" + encText # xml 결과\n",
    "request = urllib.request.Request(url)\n",
    "request.add_header(\"X-Naver-Client-Id\",client_id)\n",
    "request.add_header(\"X-Naver-Client-Secret\",client_secret)\n",
    "response = urllib.request.urlopen(request)\n",
    "rescode = response.getcode()\n",
    "if(rescode==200):\n",
    "    response_body = response.read()\n",
    "    print(response_body.decode('utf-8'))\n",
    "else:\n",
    "    print(\"Error Code:\" + rescode)"
   ]
  },
  {
   "cell_type": "markdown",
   "metadata": {},
   "source": [
    "### 네이버 쇼핑에서 몰스킨 다이어리 쇼핑 정보 크롤링"
   ]
  },
  {
   "cell_type": "code",
   "execution_count": 8,
   "metadata": {},
   "outputs": [],
   "source": [
    "def gen_search_url(api_node, search_text, start_num, disp_num):\n",
    "    base = \"https://openapi.naver.com/v1/search\"\n",
    "    node = \"/\" + api_node + \".json\"\n",
    "    param_query = \"?query=\" + urllib.parse.quote(search_text)\n",
    "    param_start = \"&start=\" + str(start_num)\n",
    "    param_disp = \"&display=\" + str(disp_num)\n",
    "    \n",
    "    return base + node + param_query + param_start + param_disp"
   ]
  },
  {
   "cell_type": "code",
   "execution_count": 9,
   "metadata": {},
   "outputs": [
    {
     "data": {
      "text/plain": [
       "'https://openapi.naver.com/v1/search/shop.json?query=TEST&start=10&display=3'"
      ]
     },
     "execution_count": 9,
     "metadata": {},
     "output_type": "execute_result"
    }
   ],
   "source": [
    "gen_search_url('shop', 'TEST', 10, 3)"
   ]
  },
  {
   "cell_type": "code",
   "execution_count": 11,
   "metadata": {},
   "outputs": [],
   "source": [
    "import json\n",
    "import datetime\n",
    "\n",
    "def get_result_onpage(url):\n",
    "    request = urllib.request.Request(url)\n",
    "    request.add_header(\"X-Naver-Client-Id\",client_id)\n",
    "    request.add_header(\"X-Naver-Client-Secret\",client_secret)\n",
    "\n",
    "    response = urllib.request.urlopen(request)\n",
    "    \n",
    "    print(\"[%s] Url Request Success\" % datetime.datetime.now())\n",
    "    \n",
    "    return json.loads(response.read().decode(\"utf-8\"))"
   ]
  },
  {
   "cell_type": "code",
   "execution_count": 12,
   "metadata": {},
   "outputs": [
    {
     "name": "stdout",
     "output_type": "stream",
     "text": [
      "[2020-11-02 13:40:32.371383] Url Request Success\n"
     ]
    }
   ],
   "source": [
    "client_id = \"1J8AA25gNpLQl6ddcR8l\"\n",
    "client_secret = \"HOYGXlyWjm\"\n",
    "\n",
    "url = gen_search_url(\"shop\", \"몰스킨\", 1, 5)\n",
    "one_result = get_result_onpage(url)"
   ]
  },
  {
   "cell_type": "code",
   "execution_count": 13,
   "metadata": {},
   "outputs": [
    {
     "data": {
      "text/plain": [
       "{'lastBuildDate': 'Mon, 02 Nov 2020 13:40:32 +0900',\n",
       " 'total': 39356,\n",
       " 'start': 1,\n",
       " 'display': 5,\n",
       " 'items': [{'title': '<b>몰스킨</b> 2021 다이어리 데일리 위클리 먼슬리 A5 고급 명품 감성 업무용 회사 기업 각인',\n",
       "   'link': 'https://search.shopping.naver.com/gate.nhn?id=82635708485',\n",
       "   'image': 'https://shopping-phinf.pstatic.net/main_8263570/82635708485.jpg',\n",
       "   'lprice': '24100',\n",
       "   'hprice': '0',\n",
       "   'mallName': '에코펜',\n",
       "   'productId': '82635708485',\n",
       "   'productType': '2',\n",
       "   'brand': '몰스킨',\n",
       "   'maker': '몰스킨',\n",
       "   'category1': '생활/건강',\n",
       "   'category2': '문구/사무용품',\n",
       "   'category3': '다이어리/플래너',\n",
       "   'category4': '다이어리'},\n",
       "  {'title': '<b>몰스킨</b> <b>몰스킨</b> 2021 데일리 12M 다이어리 소프트커버 라지 사파이어블루',\n",
       "   'link': 'https://search.shopping.naver.com/gate.nhn?id=24014109279',\n",
       "   'image': 'https://shopping-phinf.pstatic.net/main_2401410/24014109279.20200903005345.jpg',\n",
       "   'lprice': '24900',\n",
       "   'hprice': '49640',\n",
       "   'mallName': '네이버',\n",
       "   'productId': '24014109279',\n",
       "   'productType': '1',\n",
       "   'brand': '몰스킨',\n",
       "   'maker': '몰스킨',\n",
       "   'category1': '생활/건강',\n",
       "   'category2': '문구/사무용품',\n",
       "   'category3': '다이어리/플래너',\n",
       "   'category4': '다이어리'},\n",
       "  {'title': '<b>몰스킨</b> 클래식노트 플레인 하드 L',\n",
       "   'link': 'https://search.shopping.naver.com/gate.nhn?id=24031381534',\n",
       "   'image': 'https://shopping-phinf.pstatic.net/main_2403138/24031381534.20200904012957.jpg',\n",
       "   'lprice': '17970',\n",
       "   'hprice': '59400',\n",
       "   'mallName': '네이버',\n",
       "   'productId': '24031381534',\n",
       "   'productType': '1',\n",
       "   'brand': '몰스킨',\n",
       "   'maker': '몰스킨',\n",
       "   'category1': '생활/건강',\n",
       "   'category2': '문구/사무용품',\n",
       "   'category3': '노트/수첩',\n",
       "   'category4': '노트'},\n",
       "  {'title': '<b>몰스킨</b> 클래식노트 플레인 W.그린 하드',\n",
       "   'link': 'https://search.shopping.naver.com/gate.nhn?id=24031959082',\n",
       "   'image': 'https://shopping-phinf.pstatic.net/main_2403195/24031959082.20200904021310.jpg',\n",
       "   'lprice': '18390',\n",
       "   'hprice': '36900',\n",
       "   'mallName': '네이버',\n",
       "   'productId': '24031959082',\n",
       "   'productType': '1',\n",
       "   'brand': '몰스킨',\n",
       "   'maker': '몰스킨',\n",
       "   'category1': '생활/건강',\n",
       "   'category2': '문구/사무용품',\n",
       "   'category3': '노트/수첩',\n",
       "   'category4': '노트'},\n",
       "  {'title': '<b>몰스킨</b> 클래식 룰드 줄지',\n",
       "   'link': 'https://search.shopping.naver.com/gate.nhn?id=7398991731',\n",
       "   'image': 'https://shopping-phinf.pstatic.net/main_7398991/7398991731.20180112135400.jpg',\n",
       "   'lprice': '19060',\n",
       "   'hprice': '36900',\n",
       "   'mallName': '네이버',\n",
       "   'productId': '7398991731',\n",
       "   'productType': '1',\n",
       "   'brand': '',\n",
       "   'maker': '몰스킨',\n",
       "   'category1': '생활/건강',\n",
       "   'category2': '문구/사무용품',\n",
       "   'category3': '다이어리/플래너',\n",
       "   'category4': '다이어리'}]}"
      ]
     },
     "execution_count": 13,
     "metadata": {},
     "output_type": "execute_result"
    }
   ],
   "source": [
    "one_result"
   ]
  },
  {
   "cell_type": "code",
   "execution_count": 22,
   "metadata": {},
   "outputs": [
    {
     "data": {
      "text/plain": [
       "{'title': '<b>몰스킨</b> 2021 다이어리 데일리 위클리 먼슬리 A5 고급 명품 감성 업무용 회사 기업 각인',\n",
       " 'link': 'https://search.shopping.naver.com/gate.nhn?id=82635708485',\n",
       " 'image': 'https://shopping-phinf.pstatic.net/main_8263570/82635708485.jpg',\n",
       " 'lprice': '24100',\n",
       " 'hprice': '0',\n",
       " 'mallName': '에코펜',\n",
       " 'productId': '82635708485',\n",
       " 'productType': '2',\n",
       " 'brand': '몰스킨',\n",
       " 'maker': '몰스킨',\n",
       " 'category1': '생활/건강',\n",
       " 'category2': '문구/사무용품',\n",
       " 'category3': '다이어리/플래너',\n",
       " 'category4': '다이어리'}"
      ]
     },
     "execution_count": 22,
     "metadata": {},
     "output_type": "execute_result"
    }
   ],
   "source": [
    "one_result['items'][0]"
   ]
  },
  {
   "cell_type": "code",
   "execution_count": 56,
   "metadata": {},
   "outputs": [],
   "source": [
    "# 데이터프레임으로 만들기\n",
    "import pandas as pd\n",
    "\n",
    "def get_fields(json_data):\n",
    "    title = [each[\"title\"] for each in json_data[\"items\"]]\n",
    "    link = [each[\"link\"] for each in json_data[\"items\"]]\n",
    "    lprice = [each[\"lprice\"] for each in json_data[\"items\"]]\n",
    "    hprice = [each[\"hprice\"] for each in json_data[\"items\"]]\n",
    "    mall_name = [each[\"mallName\"] for each in json_data[\"items\"]]\n",
    "    \n",
    "    result_pd = pd.DataFrame({\"title\": title, \"lprice\": lprice,\n",
    "                             \"hprice\": hprice, \"link\": link,\n",
    "                             \"mall\": mall_name},\n",
    "                            columns=[\"title\", \"lprice\", \"hprice\", \"link\", \"mall\"])\n",
    "    return result_pd"
   ]
  },
  {
   "cell_type": "code",
   "execution_count": 57,
   "metadata": {},
   "outputs": [],
   "source": [
    "# 태그 제거 함수 선언\n",
    "def delete_tag(input_str):\n",
    "    input_str = input_str.replace(\"<b>\", \"\")\n",
    "    input_str = input_str.replace(\"</b>\", \"\")\n",
    "    \n",
    "    return input_str"
   ]
  },
  {
   "cell_type": "code",
   "execution_count": 58,
   "metadata": {},
   "outputs": [],
   "source": [
    "import pandas as pd\n",
    "\n",
    "def get_fields(json_data):\n",
    "    title = [delete_tag(each[\"title\"]) for each in json_data[\"items\"]]\n",
    "    link = [each[\"link\"] for each in json_data[\"items\"]]\n",
    "    lprice = [each[\"lprice\"] for each in json_data[\"items\"]]\n",
    "    hprice = [each[\"hprice\"] for each in json_data[\"items\"]]\n",
    "    mall_name = [each[\"mallName\"] for each in json_data[\"items\"]]\n",
    "    \n",
    "    result_pd = pd.DataFrame({\"title\": title, \"lprice\": lprice,\n",
    "                             \"hprice\": hprice, \"link\": link,\n",
    "                             \"mall\": mall_name},\n",
    "                            columns=[\"title\", \"lprice\", \"hprice\", \"link\", \"mall\"])\n",
    "    return result_pd"
   ]
  },
  {
   "cell_type": "code",
   "execution_count": 59,
   "metadata": {},
   "outputs": [
    {
     "name": "stdout",
     "output_type": "stream",
     "text": [
      "[2020-11-02 14:06:48.446336] Url Request Success\n"
     ]
    }
   ],
   "source": [
    "url = gen_search_url(\"shop\", \"몰스킨\", 1, 5)\n",
    "json_result = get_result_onpage(url)\n",
    "pd_result = get_fields(json_result)"
   ]
  },
  {
   "cell_type": "code",
   "execution_count": 60,
   "metadata": {},
   "outputs": [
    {
     "data": {
      "text/html": [
       "<div>\n",
       "<style scoped>\n",
       "    .dataframe tbody tr th:only-of-type {\n",
       "        vertical-align: middle;\n",
       "    }\n",
       "\n",
       "    .dataframe tbody tr th {\n",
       "        vertical-align: top;\n",
       "    }\n",
       "\n",
       "    .dataframe thead th {\n",
       "        text-align: right;\n",
       "    }\n",
       "</style>\n",
       "<table border=\"1\" class=\"dataframe\">\n",
       "  <thead>\n",
       "    <tr style=\"text-align: right;\">\n",
       "      <th></th>\n",
       "      <th>title</th>\n",
       "      <th>lprice</th>\n",
       "      <th>hprice</th>\n",
       "      <th>link</th>\n",
       "      <th>mall</th>\n",
       "    </tr>\n",
       "  </thead>\n",
       "  <tbody>\n",
       "    <tr>\n",
       "      <th>0</th>\n",
       "      <td>몰스킨 2021 다이어리 데일리 위클리 먼슬리 A5 고급 명품 감성 업무용 회사 기...</td>\n",
       "      <td>24100</td>\n",
       "      <td>0</td>\n",
       "      <td>https://search.shopping.naver.com/gate.nhn?id=...</td>\n",
       "      <td>에코펜</td>\n",
       "    </tr>\n",
       "    <tr>\n",
       "      <th>1</th>\n",
       "      <td>몰스킨 몰스킨 2021 데일리 12M 다이어리 소프트커버 라지 사파이어블루</td>\n",
       "      <td>24900</td>\n",
       "      <td>49640</td>\n",
       "      <td>https://search.shopping.naver.com/gate.nhn?id=...</td>\n",
       "      <td>네이버</td>\n",
       "    </tr>\n",
       "    <tr>\n",
       "      <th>2</th>\n",
       "      <td>몰스킨 클래식노트 플레인 하드 L</td>\n",
       "      <td>17970</td>\n",
       "      <td>59400</td>\n",
       "      <td>https://search.shopping.naver.com/gate.nhn?id=...</td>\n",
       "      <td>네이버</td>\n",
       "    </tr>\n",
       "    <tr>\n",
       "      <th>3</th>\n",
       "      <td>몰스킨 클래식노트 플레인 W.그린 하드</td>\n",
       "      <td>18390</td>\n",
       "      <td>36900</td>\n",
       "      <td>https://search.shopping.naver.com/gate.nhn?id=...</td>\n",
       "      <td>네이버</td>\n",
       "    </tr>\n",
       "    <tr>\n",
       "      <th>4</th>\n",
       "      <td>몰스킨2021 먼슬리 하드 포켓P 무료각인</td>\n",
       "      <td>13400</td>\n",
       "      <td>26800</td>\n",
       "      <td>https://search.shopping.naver.com/gate.nhn?id=...</td>\n",
       "      <td>네이버</td>\n",
       "    </tr>\n",
       "  </tbody>\n",
       "</table>\n",
       "</div>"
      ],
      "text/plain": [
       "                                               title lprice hprice  \\\n",
       "0  몰스킨 2021 다이어리 데일리 위클리 먼슬리 A5 고급 명품 감성 업무용 회사 기...  24100      0   \n",
       "1          몰스킨 몰스킨 2021 데일리 12M 다이어리 소프트커버 라지 사파이어블루  24900  49640   \n",
       "2                                 몰스킨 클래식노트 플레인 하드 L  17970  59400   \n",
       "3                              몰스킨 클래식노트 플레인 W.그린 하드  18390  36900   \n",
       "4                            몰스킨2021 먼슬리 하드 포켓P 무료각인  13400  26800   \n",
       "\n",
       "                                                link mall  \n",
       "0  https://search.shopping.naver.com/gate.nhn?id=...  에코펜  \n",
       "1  https://search.shopping.naver.com/gate.nhn?id=...  네이버  \n",
       "2  https://search.shopping.naver.com/gate.nhn?id=...  네이버  \n",
       "3  https://search.shopping.naver.com/gate.nhn?id=...  네이버  \n",
       "4  https://search.shopping.naver.com/gate.nhn?id=...  네이버  "
      ]
     },
     "execution_count": 60,
     "metadata": {},
     "output_type": "execute_result"
    }
   ],
   "source": [
    "pd_result"
   ]
  },
  {
   "cell_type": "code",
   "execution_count": 61,
   "metadata": {},
   "outputs": [
    {
     "name": "stdout",
     "output_type": "stream",
     "text": [
      "[2020-11-02 14:06:50.839970] Url Request Success\n",
      "[2020-11-02 14:06:51.010510] Url Request Success\n",
      "[2020-11-02 14:06:51.160550] Url Request Success\n",
      "[2020-11-02 14:06:51.439977] Url Request Success\n",
      "[2020-11-02 14:06:51.740536] Url Request Success\n",
      "[2020-11-02 14:06:51.943975] Url Request Success\n",
      "[2020-11-02 14:06:52.116542] Url Request Success\n",
      "[2020-11-02 14:06:52.353325] Url Request Success\n",
      "[2020-11-02 14:06:52.532858] Url Request Success\n",
      "[2020-11-02 14:06:52.693178] Url Request Success\n"
     ]
    }
   ],
   "source": [
    "result_mol = []\n",
    "\n",
    "for n in range(1, 1000, 100):\n",
    "    url = gen_search_url(\"shop\", \"몰스킨\", n, 100)\n",
    "    json_result = get_result_onpage(url)\n",
    "    pd_result = get_fields(json_result)\n",
    "    \n",
    "    result_mol.append(pd_result)\n",
    "    \n",
    "result_mol = pd.concat(result_mol)"
   ]
  },
  {
   "cell_type": "code",
   "execution_count": 62,
   "metadata": {},
   "outputs": [
    {
     "name": "stdout",
     "output_type": "stream",
     "text": [
      "<class 'pandas.core.frame.DataFrame'>\n",
      "Int64Index: 1000 entries, 0 to 99\n",
      "Data columns (total 5 columns):\n",
      " #   Column  Non-Null Count  Dtype \n",
      "---  ------  --------------  ----- \n",
      " 0   title   1000 non-null   object\n",
      " 1   lprice  1000 non-null   object\n",
      " 2   hprice  1000 non-null   object\n",
      " 3   link    1000 non-null   object\n",
      " 4   mall    1000 non-null   object\n",
      "dtypes: object(5)\n",
      "memory usage: 46.9+ KB\n"
     ]
    }
   ],
   "source": [
    "result_mol.info()"
   ]
  },
  {
   "cell_type": "code",
   "execution_count": 63,
   "metadata": {},
   "outputs": [
    {
     "name": "stdout",
     "output_type": "stream",
     "text": [
      "<class 'pandas.core.frame.DataFrame'>\n",
      "RangeIndex: 1000 entries, 0 to 999\n",
      "Data columns (total 5 columns):\n",
      " #   Column  Non-Null Count  Dtype \n",
      "---  ------  --------------  ----- \n",
      " 0   title   1000 non-null   object\n",
      " 1   lprice  1000 non-null   object\n",
      " 2   hprice  1000 non-null   object\n",
      " 3   link    1000 non-null   object\n",
      " 4   mall    1000 non-null   object\n",
      "dtypes: object(5)\n",
      "memory usage: 39.2+ KB\n"
     ]
    }
   ],
   "source": [
    "result_mol.reset_index(drop=True, inplace=True)\n",
    "result_mol.info()"
   ]
  },
  {
   "cell_type": "code",
   "execution_count": 64,
   "metadata": {},
   "outputs": [
    {
     "data": {
      "text/html": [
       "<div>\n",
       "<style scoped>\n",
       "    .dataframe tbody tr th:only-of-type {\n",
       "        vertical-align: middle;\n",
       "    }\n",
       "\n",
       "    .dataframe tbody tr th {\n",
       "        vertical-align: top;\n",
       "    }\n",
       "\n",
       "    .dataframe thead th {\n",
       "        text-align: right;\n",
       "    }\n",
       "</style>\n",
       "<table border=\"1\" class=\"dataframe\">\n",
       "  <thead>\n",
       "    <tr style=\"text-align: right;\">\n",
       "      <th></th>\n",
       "      <th>title</th>\n",
       "      <th>lprice</th>\n",
       "      <th>hprice</th>\n",
       "      <th>link</th>\n",
       "      <th>mall</th>\n",
       "    </tr>\n",
       "  </thead>\n",
       "  <tbody>\n",
       "    <tr>\n",
       "      <th>0</th>\n",
       "      <td>몰스킨 2021 다이어리 데일리 위클리 먼슬리 A5 고급 명품 감성 업무용 회사 기...</td>\n",
       "      <td>24100</td>\n",
       "      <td>0</td>\n",
       "      <td>https://search.shopping.naver.com/gate.nhn?id=...</td>\n",
       "      <td>에코펜</td>\n",
       "    </tr>\n",
       "    <tr>\n",
       "      <th>1</th>\n",
       "      <td>몰스킨 몰스킨 2021 데일리 12M 다이어리 소프트커버 라지 사파이어블루</td>\n",
       "      <td>24900</td>\n",
       "      <td>49640</td>\n",
       "      <td>https://search.shopping.naver.com/gate.nhn?id=...</td>\n",
       "      <td>네이버</td>\n",
       "    </tr>\n",
       "    <tr>\n",
       "      <th>2</th>\n",
       "      <td>몰스킨 클래식노트 플레인 하드 L</td>\n",
       "      <td>17970</td>\n",
       "      <td>59400</td>\n",
       "      <td>https://search.shopping.naver.com/gate.nhn?id=...</td>\n",
       "      <td>네이버</td>\n",
       "    </tr>\n",
       "    <tr>\n",
       "      <th>3</th>\n",
       "      <td>몰스킨 클래식노트 플레인 W.그린 하드</td>\n",
       "      <td>18390</td>\n",
       "      <td>36900</td>\n",
       "      <td>https://search.shopping.naver.com/gate.nhn?id=...</td>\n",
       "      <td>네이버</td>\n",
       "    </tr>\n",
       "    <tr>\n",
       "      <th>4</th>\n",
       "      <td>몰스킨 클래식 룰드 줄지</td>\n",
       "      <td>19060</td>\n",
       "      <td>36900</td>\n",
       "      <td>https://search.shopping.naver.com/gate.nhn?id=...</td>\n",
       "      <td>네이버</td>\n",
       "    </tr>\n",
       "  </tbody>\n",
       "</table>\n",
       "</div>"
      ],
      "text/plain": [
       "                                               title lprice hprice  \\\n",
       "0  몰스킨 2021 다이어리 데일리 위클리 먼슬리 A5 고급 명품 감성 업무용 회사 기...  24100      0   \n",
       "1          몰스킨 몰스킨 2021 데일리 12M 다이어리 소프트커버 라지 사파이어블루  24900  49640   \n",
       "2                                 몰스킨 클래식노트 플레인 하드 L  17970  59400   \n",
       "3                              몰스킨 클래식노트 플레인 W.그린 하드  18390  36900   \n",
       "4                                      몰스킨 클래식 룰드 줄지  19060  36900   \n",
       "\n",
       "                                                link mall  \n",
       "0  https://search.shopping.naver.com/gate.nhn?id=...  에코펜  \n",
       "1  https://search.shopping.naver.com/gate.nhn?id=...  네이버  \n",
       "2  https://search.shopping.naver.com/gate.nhn?id=...  네이버  \n",
       "3  https://search.shopping.naver.com/gate.nhn?id=...  네이버  \n",
       "4  https://search.shopping.naver.com/gate.nhn?id=...  네이버  "
      ]
     },
     "execution_count": 64,
     "metadata": {},
     "output_type": "execute_result"
    }
   ],
   "source": [
    "result_mol.head()"
   ]
  },
  {
   "cell_type": "code",
   "execution_count": 65,
   "metadata": {},
   "outputs": [
    {
     "name": "stdout",
     "output_type": "stream",
     "text": [
      "<class 'pandas.core.frame.DataFrame'>\n",
      "RangeIndex: 1000 entries, 0 to 999\n",
      "Data columns (total 5 columns):\n",
      " #   Column  Non-Null Count  Dtype  \n",
      "---  ------  --------------  -----  \n",
      " 0   title   1000 non-null   object \n",
      " 1   lprice  1000 non-null   float64\n",
      " 2   hprice  1000 non-null   float64\n",
      " 3   link    1000 non-null   object \n",
      " 4   mall    1000 non-null   object \n",
      "dtypes: float64(2), object(3)\n",
      "memory usage: 39.2+ KB\n"
     ]
    }
   ],
   "source": [
    "result_mol[\"lprice\"] = result_mol[\"lprice\"].astype(\"float\")\n",
    "result_mol[\"hprice\"] = result_mol[\"hprice\"].astype(\"float\")\n",
    "result_mol.info()"
   ]
  },
  {
   "cell_type": "code",
   "execution_count": 75,
   "metadata": {},
   "outputs": [],
   "source": [
    "writer = pd.ExcelWriter(\"./data/06_molskin_diary_naver_shop.xlsx\",\n",
    "                       engine='xlsxwriter')\n",
    "result_mol.to_excel(writer, sheet_name=\"Sheet1\")\n",
    "\n",
    "workbook = writer.book\n",
    "worksheet = writer.sheets[\"Sheet1\"]\n",
    "worksheet.set_column(\"A:A\", 4)\n",
    "worksheet.set_column(\"B:B\", 60)\n",
    "worksheet.set_column(\"C:C\", 10)\n",
    "worksheet.set_column(\"D:D\", 10)\n",
    "worksheet.set_column(\"E:E\", 50)\n",
    "worksheet.set_column(\"F:F\", 10)\n",
    "\n",
    "worksheet.conditional_format(\"C2:C1001\", {\"type\": \"3_color_scale\"})\n",
    "\n",
    "writer.save()"
   ]
  },
  {
   "cell_type": "code",
   "execution_count": 77,
   "metadata": {},
   "outputs": [],
   "source": [
    "import seaborn as sns\n",
    "import matplotlib.pyplot as plt\n",
    "%matplotlib inline\n",
    "\n",
    "from matplotlib import font_manager, rc\n",
    "plt.rcParams['axes.unicode_minus'] = False\n",
    "\n",
    "f_path = \"/Library/Fonts/Arial Unicode.ttf\"\n",
    "font_name = font_manager.FontProperties(fname=f_path).get_name()\n",
    "rc('font', family=font_name)"
   ]
  },
  {
   "cell_type": "code",
   "execution_count": 81,
   "metadata": {},
   "outputs": [
    {
     "name": "stderr",
     "output_type": "stream",
     "text": [
      "/Users/jaecheolchoi/opt/anaconda3/envs/dss/lib/python3.7/site-packages/seaborn/_decorators.py:43: FutureWarning: Pass the following variable as a keyword arg: x. From version 0.12, the only valid positional argument will be `data`, and passing other arguments without an explicit keyword will result in an error or misinterpretation.\n",
      "  FutureWarning\n"
     ]
    },
    {
     "data": {
      "image/png": "[encoded data removed]",
      "text/plain": [
       "<Figure size 1080x432 with 1 Axes>"
      ]
     },
     "metadata": {
      "image/png": {
       "height": 441,
       "width": 888
      },
      "needs_background": "light"
     },
     "output_type": "display_data"
    }
   ],
   "source": [
    "plt.figure(figsize=(15,6))\n",
    "sns.countplot(\"mall\", data=result_mol, palette=\"RdYlGn\",\n",
    "             order=result_mol[\"mall\"].value_counts().index)\n",
    "plt.xticks(rotation=90)\n",
    "plt.show()"
   ]
  },
  {
   "cell_type": "code",
   "execution_count": null,
   "metadata": {},
   "outputs": [],
   "source": []
  }
 ],
 "metadata": {
  "kernelspec": {
   "display_name": "Python 3",
   "language": "python",
   "name": "python3"
  },
  "language_info": {
   "codemirror_mode": {
    "name": "ipython",
    "version": 3
   },
   "file_extension": ".py",
   "mimetype": "text/x-python",
   "name": "python",
   "nbconvert_exporter": "python",
   "pygments_lexer": "ipython3",
   "version": "3.7.9"
  }
 },
 "nbformat": 4,
 "nbformat_minor": 4
}
