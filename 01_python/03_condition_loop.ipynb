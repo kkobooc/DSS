{
 "cells": [
  {
   "cell_type": "markdown",
   "metadata": {},
   "source": [
    "## 조건문\n",
    "    - if, else, elif\n",
    "    - 특정 조건에 따라서 코드를 실행하고 싶을 때 사용\n",
    "## 반복문\n",
    "    - while, for\n",
    "    - 특정 코드를 반복적으로 실행시키고 싶을 때 사용\n",
    "    - continue, break"
   ]
  },
  {
   "cell_type": "markdown",
   "metadata": {},
   "source": [
    "### 1. 조건문\n",
    "- 특정 조건에 따라서 코드를 실행하고자 할 때 사용\n",
    "- if, else, elif"
   ]
  },
  {
   "cell_type": "code",
   "execution_count": 1,
   "metadata": {},
   "outputs": [
    {
     "name": "stdout",
     "output_type": "stream",
     "text": [
      "done\n"
     ]
    }
   ],
   "source": [
    "# 조건부분에 : bool 데이터 타입 이외의 데이터 타입이 오면 bool으로 형변환 되어 판단 \n",
    "\n",
    "if False:\n",
    "    print(\"python\")\n",
    "\n",
    "print(\"done\")"
   ]
  },
  {
   "cell_type": "code",
   "execution_count": 2,
   "metadata": {},
   "outputs": [
    {
     "data": {
      "text/plain": [
       "(False, True, True, True)"
      ]
     },
     "execution_count": 2,
     "metadata": {},
     "output_type": "execute_result"
    }
   ],
   "source": [
    "# int : 0을 제외한 나머지 값은 True\n",
    "bool(0), bool(1), bool(2), bool(-1)"
   ]
  },
  {
   "cell_type": "code",
   "execution_count": 3,
   "metadata": {},
   "outputs": [
    {
     "name": "stdout",
     "output_type": "stream",
     "text": [
      "python_2\n"
     ]
    }
   ],
   "source": [
    "num = 0\n",
    "if num:\n",
    "    print(\"python_1\")\n",
    "    \n",
    "num = 1\n",
    "if num:\n",
    "    print(\"python_2\")"
   ]
  },
  {
   "cell_type": "code",
   "execution_count": 4,
   "metadata": {},
   "outputs": [
    {
     "name": "stdout",
     "output_type": "stream",
     "text": [
      "홀수\n"
     ]
    }
   ],
   "source": [
    "number = 7\n",
    "\n",
    "if number % 2: # ' == 1 ' 안써도 됨\n",
    "    print(\"홀수\")"
   ]
  },
  {
   "cell_type": "code",
   "execution_count": 5,
   "metadata": {},
   "outputs": [],
   "source": [
    "# float : 0.0을 제외한 나머지 실수는 True\n",
    "# str : \"\"를 제외한 나머지 문자열은 True\n",
    "# list, tuple, dict : [], (), {}을 제외한 나머지는 True"
   ]
  },
  {
   "cell_type": "code",
   "execution_count": 6,
   "metadata": {},
   "outputs": [],
   "source": [
    "# 지갑에 돈이 10000원 이상 있으면 택시를 타고\n",
    "# 2000원 이상이 있으면 버스를 타고,\n",
    "# 그렇지 않으면 걸어서 집에 갑니다."
   ]
  },
  {
   "cell_type": "code",
   "execution_count": 7,
   "metadata": {},
   "outputs": [
    {
     "name": "stdout",
     "output_type": "stream",
     "text": [
      "걸어서 집에 갑니다.\n"
     ]
    }
   ],
   "source": [
    "money = 900\n",
    "\n",
    "if money >= 10000:\n",
    "    print(\"택시를 타고 집에 갑니다.\")\n",
    "elif money >= 2000:\n",
    "    print(\"버스를 타고 집에 갑니다.\")\n",
    "else:\n",
    "    print(\"걸어서 집에 갑니다.\")\n",
    "## else를 쓰면 if를 두번 쓸 필요 없음"
   ]
  },
  {
   "cell_type": "code",
   "execution_count": 8,
   "metadata": {},
   "outputs": [],
   "source": [
    "# 계좌에 10000원이 들어 있습니다. \n",
    "# 인출 금액을 입력 받습니다.\n",
    "# 인출 금액이 계좌에 있는 금액보다 크면 '인출이 불가능 합니다.' 라고 출력\n",
    "# 인출 금액이 계좌에 있는 금액보다 작으면 '인출 되었습니다' 라고 출력\n",
    "# 마지막에 현재 계좌의 잔액을 출력"
   ]
  },
  {
   "cell_type": "code",
   "execution_count": 9,
   "metadata": {},
   "outputs": [
    {
     "name": "stdout",
     "output_type": "stream",
     "text": [
      "인출 금액을 입력하세요 : 9900\n",
      "9900원이 인출 되었습니다.\n",
      "계좌 잔액 : 100\n"
     ]
    }
   ],
   "source": [
    "account = 10000\n",
    "\n",
    "withdraw = int(input(\"인출 금액을 입력하세요 : \"))\n",
    "\n",
    "if account >= withdraw:\n",
    "    account -= withdraw\n",
    "    print(str(withdraw) + \"원이 인출 되었습니다.\")\n",
    "else:\n",
    "    print(\"인출이 불가능합니다.\")\n",
    "\n",
    "print(\"계좌 잔액 : \"+ str(account))"
   ]
  },
  {
   "cell_type": "code",
   "execution_count": 10,
   "metadata": {},
   "outputs": [
    {
     "name": "stdout",
     "output_type": "stream",
     "text": [
      "현재 잔액은 100원 입니다.\n",
      "인출 금액은 9900원 이며, 계좌 잔액은 100입니다.\n",
      "인출 금액은 9900원 이며, 계좌 잔액은 100입니다.\n"
     ]
    }
   ],
   "source": [
    "# string 데이터 타입의 format 함수, 따로 스트링으로 형변환 해주지 않게 해줌\n",
    "print(\"현재 잔액은 {}원 입니다.\".format(account))\n",
    "print(\"인출 금액은 {}원 이며, 계좌 잔액은 {}입니다.\".format(withdraw, account))\n",
    "print(\"인출 금액은 {data1}원 이며, 계좌 잔액은 {data2}입니다.\".format(data1 = withdraw, data2 = account))"
   ]
  },
  {
   "cell_type": "markdown",
   "metadata": {},
   "source": [
    "#### 삼항연산자\n",
    "- 간단한 if, else 구문을 한줄의 코드로 표현할 수 있는 방법\n",
    "- (True) if (condition) else (False)"
   ]
  },
  {
   "cell_type": "code",
   "execution_count": 11,
   "metadata": {},
   "outputs": [
    {
     "name": "stdout",
     "output_type": "stream",
     "text": [
      "not zero\n"
     ]
    }
   ],
   "source": [
    "# data 변수에 0이면 \"zero\" 출력, 아니면 \"not zero\" 출력\n",
    "\n",
    "data = 1\n",
    "\n",
    "print(\"not zero\") if data else print(\"zero\")"
   ]
  },
  {
   "cell_type": "markdown",
   "metadata": {},
   "source": [
    "### 2. 반복문\n",
    "- 반복되는 코드를 실행할 때 사용\n",
    "- while, for, break, continue\n",
    "- list comprehension"
   ]
  },
  {
   "cell_type": "markdown",
   "metadata": {},
   "source": [
    "#### while\n",
    "- while <condition>\n",
    "- 조건이 False가 될 때까지 구문의 코드를 실행"
   ]
  },
  {
   "cell_type": "code",
   "execution_count": 12,
   "metadata": {},
   "outputs": [
    {
     "name": "stdout",
     "output_type": "stream",
     "text": [
      "3\n",
      "2\n",
      "1\n"
     ]
    }
   ],
   "source": [
    "# while\n",
    "data = 3\n",
    "\n",
    "while data: # 조건이 False가 될 때까지 구문의 코드를 실행\n",
    "    \n",
    "    # 반복되는 코드 \n",
    "    print(data)\n",
    "    data -= 1"
   ]
  },
  {
   "cell_type": "code",
   "execution_count": 13,
   "metadata": {},
   "outputs": [],
   "source": [
    "# 학생이 국어는 80점, 영어는 90점, 수학은 100점을 맞았다.\n",
    "# while문을 이용하여 총점과 평균을 출력해 주세요.\n",
    "# 학생의 점수는 list, dict 표현"
   ]
  },
  {
   "cell_type": "code",
   "execution_count": 14,
   "metadata": {},
   "outputs": [],
   "source": [
    "subjects_ls = [\"korean\", \"english\", \"math\"]\n",
    "points_ls = [80, 90, 100]\n",
    "points_dict = {\"korean\" : 80, \"english\" : 90, \"math\" : 100}"
   ]
  },
  {
   "cell_type": "code",
   "execution_count": 15,
   "metadata": {},
   "outputs": [],
   "source": [
    "total, avg = 0, 0"
   ]
  },
  {
   "cell_type": "code",
   "execution_count": 16,
   "metadata": {},
   "outputs": [],
   "source": [
    "datas = points_ls.copy() #깊은 복사 : 원본데이터를 보존"
   ]
  },
  {
   "cell_type": "code",
   "execution_count": 17,
   "metadata": {},
   "outputs": [
    {
     "data": {
      "text/plain": [
       "(270, 90.0)"
      ]
     },
     "execution_count": 17,
     "metadata": {},
     "output_type": "execute_result"
    }
   ],
   "source": [
    "count = len(datas)\n",
    "while datas:\n",
    "    total += datas.pop() #pop 함수 : 끝에 있는 데이터를 출력 후 삭제\n",
    "\n",
    "avg = total / len(points_ls)\n",
    "total, avg"
   ]
  },
  {
   "cell_type": "code",
   "execution_count": 18,
   "metadata": {},
   "outputs": [
    {
     "name": "stdout",
     "output_type": "stream",
     "text": [
      "10\n"
     ]
    }
   ],
   "source": [
    "# 무한루프\n",
    "# 빠져나가기 위해선 break\n",
    "result = 1\n",
    "while result:\n",
    "\n",
    "    if result >= 10:\n",
    "        break\n",
    "\n",
    "    result += 1\n",
    "    \n",
    "print(result)"
   ]
  },
  {
   "cell_type": "markdown",
   "metadata": {},
   "source": [
    "#### for\n",
    "- iterable한 값을 하나씩 꺼내서 value에 대입시킨 후 iterable 변수의 값 갯수만큼 실행\n",
    "\n",
    "```\n",
    "for <variable> in <iterables>\n",
    "    <code>\n",
    "```"
   ]
  },
  {
   "cell_type": "code",
   "execution_count": 19,
   "metadata": {},
   "outputs": [
    {
     "name": "stdout",
     "output_type": "stream",
     "text": [
      "0 2 4 "
     ]
    }
   ],
   "source": [
    "# for : continue : 조건 부분으로 올라가서 코드가 실행\n",
    "\n",
    "ls = [0, 1, 2, 3, 4]\n",
    "for data in ls:\n",
    "    if data % 2: # data가 홀수가 되면 continue를 실행\n",
    "        continue\n",
    "    # data가 짝수이면 print를 실행\n",
    "    print(data, end=\" \")\n"
   ]
  },
  {
   "cell_type": "code",
   "execution_count": 20,
   "metadata": {},
   "outputs": [
    {
     "name": "stdout",
     "output_type": "stream",
     "text": [
      "[0, 1, 2, 3, 4, 5, 6, 7, 8, 9, 10, 11, 12, 13, 14, 15, 16, 17, 18, 19, 20, 21, 22, 23, 24, 25, 26, 27, 28, 29, 30, 31, 32, 33, 34, 35, 36, 37, 38, 39, 40, 41, 42, 43, 44, 45, 46, 47, 48, 49, 50, 51, 52, 53, 54, 55, 56, 57, 58, 59, 60, 61, 62, 63, 64, 65, 66, 67, 68, 69, 70, 71, 72, 73, 74, 75, 76, 77, 78, 79, 80, 81, 82, 83, 84, 85, 86, 87, 88, 89, 90, 91, 92, 93, 94, 95, 96, 97, 98, 99]\n",
      "4950\n"
     ]
    }
   ],
   "source": [
    "# for를 이용해서 코드를 100번 실행\n",
    "# range 함수\n",
    "print(list(range(100)))\n",
    "\n",
    "result = 0\n",
    "\n",
    "for data in range(100):\n",
    "    result += data\n",
    "\n",
    "print(result)"
   ]
  },
  {
   "cell_type": "code",
   "execution_count": 21,
   "metadata": {},
   "outputs": [
    {
     "data": {
      "text/plain": [
       "([0, 1, 2, 3, 4],\n",
       " [5, 6, 7, 8, 9],\n",
       " [0, 2, 4, 6, 8],\n",
       " [10, 9, 8, 7, 6, 5, 4, 3, 2, 1])"
      ]
     },
     "execution_count": 21,
     "metadata": {},
     "output_type": "execute_result"
    }
   ],
   "source": [
    "# range 또한 offset index와 비슷하게 사용\n",
    "list(range(5)), list(range(5,10)), list(range(0,10,2)), list(range(10, 0, -1))"
   ]
  },
  {
   "cell_type": "code",
   "execution_count": 22,
   "metadata": {},
   "outputs": [
    {
     "name": "stdout",
     "output_type": "stream",
     "text": [
      "30\n"
     ]
    }
   ],
   "source": [
    "# 0 ~ 10까지 짝수를 더한 총합\n",
    "result = 0\n",
    "\n",
    "for number in range(0, 11, 2):\n",
    "    result += number\n",
    "    \n",
    "print(result)"
   ]
  },
  {
   "cell_type": "code",
   "execution_count": 23,
   "metadata": {},
   "outputs": [],
   "source": [
    "points_dict = {\"korean\" : 80, \"english\" : 90, \"math\" : 100}"
   ]
  },
  {
   "cell_type": "code",
   "execution_count": 24,
   "metadata": {},
   "outputs": [
    {
     "data": {
      "text/plain": [
       "['korean', 'english', 'math']"
      ]
     },
     "execution_count": 24,
     "metadata": {},
     "output_type": "execute_result"
    }
   ],
   "source": [
    "list(points_dict.keys())"
   ]
  },
  {
   "cell_type": "code",
   "execution_count": 25,
   "metadata": {},
   "outputs": [
    {
     "data": {
      "text/plain": [
       "[80, 90, 100]"
      ]
     },
     "execution_count": 25,
     "metadata": {},
     "output_type": "execute_result"
    }
   ],
   "source": [
    "list(points_dict.values())"
   ]
  },
  {
   "cell_type": "code",
   "execution_count": 26,
   "metadata": {},
   "outputs": [
    {
     "name": "stdout",
     "output_type": "stream",
     "text": [
      "dict_items([('korean', 80), ('english', 90), ('math', 100)])\n",
      "<class 'dict_items'>\n",
      "[('korean', 80), ('english', 90), ('math', 100)]\n"
     ]
    }
   ],
   "source": [
    "print(points_dict.items())\n",
    "print(type(points_dict.items()))\n",
    "print(list(points_dict.items()))"
   ]
  },
  {
   "cell_type": "code",
   "execution_count": 27,
   "metadata": {},
   "outputs": [
    {
     "name": "stdout",
     "output_type": "stream",
     "text": [
      "korean 80\n",
      "english 90\n",
      "math 100\n"
     ]
    }
   ],
   "source": [
    "total1, avg1 = 0, 0\n",
    "for subject, point in points_dict.items():\n",
    "    print(subject, point)"
   ]
  },
  {
   "cell_type": "code",
   "execution_count": 28,
   "metadata": {},
   "outputs": [
    {
     "name": "stdout",
     "output_type": "stream",
     "text": [
      "<zip object at 0x7fe09a2cbe80>\n"
     ]
    },
    {
     "data": {
      "text/plain": [
       "[('korean', 80), ('english', 90), ('math', 100)]"
      ]
     },
     "execution_count": 28,
     "metadata": {},
     "output_type": "execute_result"
    }
   ],
   "source": [
    "subjects_ls = [\"korean\", \"english\", \"math\"]\n",
    "points_ls = [80, 90, 100]\n",
    "\n",
    "print(zip(subjects_ls, points_ls))\n",
    "list(zip(subjects_ls, points_ls))"
   ]
  },
  {
   "cell_type": "code",
   "execution_count": 29,
   "metadata": {},
   "outputs": [
    {
     "name": "stdout",
     "output_type": "stream",
     "text": [
      "korean 80\n",
      "english 90\n",
      "math 100\n"
     ]
    }
   ],
   "source": [
    "#for문에서 iterable 데이터가 tuple로 나오면 두 값을 모두 변수로 받을 수 있음\n",
    "\n",
    "for subject, point in zip(subjects_ls, points_ls): #zip은 두 리스트끼리 인덱스 순서대로 묶어 튜플을 구성해줌\n",
    "    print(subject, point)"
   ]
  },
  {
   "cell_type": "code",
   "execution_count": 30,
   "metadata": {},
   "outputs": [],
   "source": [
    "# 구구단 출력 (가로로 출력)\n",
    "\n",
    "# 2*1=2   3*1=3 ... 9*1=9\n",
    "# ...\n",
    "# 2*9=18 3*9=27 ... 9*9=81"
   ]
  },
  {
   "cell_type": "code",
   "execution_count": 31,
   "metadata": {},
   "outputs": [
    {
     "name": "stdout",
     "output_type": "stream",
     "text": [
      "2*1=2\t3*1=3\t4*1=4\t5*1=5\t6*1=6\t7*1=7\t8*1=8\t9*1=9\t\n",
      "2*2=4\t3*2=6\t4*2=8\t5*2=10\t6*2=12\t7*2=14\t8*2=16\t9*2=18\t\n",
      "2*3=6\t3*3=9\t4*3=12\t5*3=15\t6*3=18\t7*3=21\t8*3=24\t9*3=27\t\n",
      "2*4=8\t3*4=12\t4*4=16\t5*4=20\t6*4=24\t7*4=28\t8*4=32\t9*4=36\t\n",
      "2*5=10\t3*5=15\t4*5=20\t5*5=25\t6*5=30\t7*5=35\t8*5=40\t9*5=45\t\n",
      "2*6=12\t3*6=18\t4*6=24\t5*6=30\t6*6=36\t7*6=42\t8*6=48\t9*6=54\t\n",
      "2*7=14\t3*7=21\t4*7=28\t5*7=35\t6*7=42\t7*7=49\t8*7=56\t9*7=63\t\n",
      "2*8=16\t3*8=24\t4*8=32\t5*8=40\t6*8=48\t7*8=56\t8*8=64\t9*8=72\t\n",
      "2*9=18\t3*9=27\t4*9=36\t5*9=45\t6*9=54\t7*9=63\t8*9=72\t9*9=81\t\n"
     ]
    }
   ],
   "source": [
    "## 나의 풀이\n",
    "a = range(2,10)\n",
    "b = range(1,10)\n",
    "\n",
    "for back in b:\n",
    "    for front in a:\n",
    "        print(\"{}*{}={}\".format(front, back, front*back), end=\"\\t\")\n",
    "    print(\"\")"
   ]
  },
  {
   "cell_type": "code",
   "execution_count": 32,
   "metadata": {},
   "outputs": [
    {
     "name": "stdout",
     "output_type": "stream",
     "text": [
      "2*1=2\t3*1=3\t4*1=4\t5*1=5\t6*1=6\t7*1=7\t8*1=8\t9*1=9\t\n",
      "2*2=4\t3*2=6\t4*2=8\t5*2=10\t6*2=12\t7*2=14\t8*2=16\t9*2=18\t\n",
      "2*3=6\t3*3=9\t4*3=12\t5*3=15\t6*3=18\t7*3=21\t8*3=24\t9*3=27\t\n",
      "2*4=8\t3*4=12\t4*4=16\t5*4=20\t6*4=24\t7*4=28\t8*4=32\t9*4=36\t\n",
      "2*5=10\t3*5=15\t4*5=20\t5*5=25\t6*5=30\t7*5=35\t8*5=40\t9*5=45\t\n",
      "2*6=12\t3*6=18\t4*6=24\t5*6=30\t6*6=36\t7*6=42\t8*6=48\t9*6=54\t\n",
      "2*7=14\t3*7=21\t4*7=28\t5*7=35\t6*7=42\t7*7=49\t8*7=56\t9*7=63\t\n",
      "2*8=16\t3*8=24\t4*8=32\t5*8=40\t6*8=48\t7*8=56\t8*8=64\t9*8=72\t\n",
      "2*9=18\t3*9=27\t4*9=36\t5*9=45\t6*9=54\t7*9=63\t8*9=72\t9*9=81\t\n"
     ]
    }
   ],
   "source": [
    "## 강사님 풀이\n",
    "for num2 in range(1, 10):\n",
    "    for num1 in range(2, 10):\n",
    "        print(\"{}*{}={}\".format(num1, num2, num1*num2), end = \"\\t\")\n",
    "    print()"
   ]
  },
  {
   "cell_type": "markdown",
   "metadata": {},
   "source": [
    "#### 3. List comprehension\n",
    "- 리스트 데이터를 만들어주는 방법\n",
    "- for문 보다 빠르게 동작합니다."
   ]
  },
  {
   "cell_type": "code",
   "execution_count": 33,
   "metadata": {},
   "outputs": [
    {
     "name": "stdout",
     "output_type": "stream",
     "text": [
      "[0, 1, 4, 9]\n"
     ]
    }
   ],
   "source": [
    "ls = [0, 1, 2, 3]\n",
    "\n",
    "# 각 제곱의 결과를 리스트로 만들고 싶음\n",
    "result = []\n",
    "\n",
    "for data in ls:\n",
    "    result.append(data**2)\n",
    "print(result)"
   ]
  },
  {
   "cell_type": "code",
   "execution_count": 34,
   "metadata": {},
   "outputs": [
    {
     "name": "stdout",
     "output_type": "stream",
     "text": [
      "[0, 1, 4, 9]\n"
     ]
    }
   ],
   "source": [
    "# list comprehension으로 작성\n",
    "result = [data**2 for data in ls]\n",
    "print(result)"
   ]
  },
  {
   "cell_type": "code",
   "execution_count": 35,
   "metadata": {},
   "outputs": [
    {
     "name": "stdout",
     "output_type": "stream",
     "text": [
      "['짝수', '홀수', '짝수', '홀수']\n"
     ]
    }
   ],
   "source": [
    "ls = [0, 1, 2, 3]\n",
    "\n",
    "# result = [\"짝수\", \"홀수\", \"짝수\", \"홀수\"] 로 나오도록 리스트 컴프리헨션과 삼항연산 사용\n",
    "\n",
    "result = [\n",
    "    \"홀수\" if data % 2 else \"짝수\"\n",
    "    for data in ls\n",
    "]\n",
    "\n",
    "print(result)"
   ]
  },
  {
   "cell_type": "code",
   "execution_count": 36,
   "metadata": {},
   "outputs": [
    {
     "data": {
      "text/plain": [
       "[1, 3, 5, 7, 9]"
      ]
     },
     "execution_count": 36,
     "metadata": {},
     "output_type": "execute_result"
    }
   ],
   "source": [
    "# list comprehension에서 조건문을 사용한 필터링 효과\n",
    "ls = range(10)\n",
    "[data for data in ls if data % 2]"
   ]
  },
  {
   "cell_type": "code",
   "execution_count": 37,
   "metadata": {},
   "outputs": [
    {
     "data": {
      "text/plain": [
       "['clear', 'copy', 'count']"
      ]
     },
     "execution_count": 37,
     "metadata": {},
     "output_type": "execute_result"
    }
   ],
   "source": [
    "ls = [1, 2, 3]\n",
    "\n",
    "[func for func in dir(ls) if func[:2] != \"__\" and func[0] == \"c\"]"
   ]
  },
  {
   "cell_type": "code",
   "execution_count": 179,
   "metadata": {},
   "outputs": [],
   "source": [
    "# 리스트 컴프리헨션은 일반 for문보다 시간을 2/3 정도 더 줄여준다\n",
    "# 성능 비교"
   ]
  },
  {
   "cell_type": "code",
   "execution_count": 185,
   "metadata": {},
   "outputs": [
    {
     "name": "stdout",
     "output_type": "stream",
     "text": [
      "589 µs ± 2.76 µs per loop (mean ± std. dev. of 7 runs, 1000 loops each)\n"
     ]
    }
   ],
   "source": [
    "%%timeit\n",
    "\n",
    "ls = []\n",
    "for num in range(1, 10001):\n",
    "    if num % 3 == 0:\n",
    "        ls.append(num)\n",
    "len(ls)"
   ]
  },
  {
   "cell_type": "code",
   "execution_count": 186,
   "metadata": {},
   "outputs": [
    {
     "name": "stdout",
     "output_type": "stream",
     "text": [
      "491 µs ± 2.25 µs per loop (mean ± std. dev. of 7 runs, 1000 loops each)\n"
     ]
    }
   ],
   "source": [
    "%%timeit\n",
    "\n",
    "ls = [num for num in range(1, 10001) if num % 3 == 0]\n",
    "len(ls)"
   ]
  },
  {
   "cell_type": "code",
   "execution_count": 9,
   "metadata": {},
   "outputs": [],
   "source": [
    "# 6자리의 로또번호를 생성하는 코드를 작성하세요.\n",
    "# 6자리의 번호는 중복이 X"
   ]
  },
  {
   "cell_type": "code",
   "execution_count": 23,
   "metadata": {},
   "outputs": [
    {
     "name": "stdout",
     "output_type": "stream",
     "text": [
      "[10, 33, 41, 17, 45, 31]\n"
     ]
    }
   ],
   "source": [
    "import random\n",
    "\n",
    "random.randint(1, 45)\n",
    "\n",
    "r = 6\n",
    "lotto = []\n",
    "\n",
    "while r:  # while True: 를 쓰고 len(ls) 값이 6개 이상일 때 break 하는 방법을 쓸 수도 있음\n",
    "    a = random.randint(1, 45)\n",
    "    \n",
    "    if a in lotto:\n",
    "        continue\n",
    "    else:\n",
    "        lotto.append(a)\n",
    "    \n",
    "    r -= 1\n",
    "\n",
    "print(lotto)"
   ]
  },
  {
   "cell_type": "code",
   "execution_count": null,
   "metadata": {},
   "outputs": [],
   "source": []
  }
 ],
 "metadata": {
  "kernelspec": {
   "display_name": "Python 3",
   "language": "python",
   "name": "python3"
  },
  "language_info": {
   "codemirror_mode": {
    "name": "ipython",
    "version": 3
   },
   "file_extension": ".py",
   "mimetype": "text/x-python",
   "name": "python",
   "nbconvert_exporter": "python",
   "pygments_lexer": "ipython3",
   "version": "3.8.3"
  }
 },
 "nbformat": 4,
 "nbformat_minor": 4
}
