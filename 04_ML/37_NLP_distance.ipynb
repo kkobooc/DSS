{
 "cells": [
  {
   "cell_type": "code",
   "execution_count": 1,
   "metadata": {},
   "outputs": [],
   "source": [
    "from sklearn.feature_extraction.text import CountVectorizer\n",
    "\n",
    "vectorizer = CountVectorizer(min_df=1)"
   ]
  },
  {
   "cell_type": "code",
   "execution_count": 2,
   "metadata": {},
   "outputs": [],
   "source": [
    "contents = ['상처받은 아이들은 너무 일찍 커버려',\n",
    "           '내가 상처받은 거 아는 사람 불편해',\n",
    "           '잘 사는 사람들은 좋은 사람 되기 쉬워',\n",
    "           '아무 일도 아니야 괜찮아']"
   ]
  },
  {
   "cell_type": "code",
   "execution_count": 3,
   "metadata": {},
   "outputs": [
    {
     "name": "stderr",
     "output_type": "stream",
     "text": [
      "/Users/jaecheolchoi/opt/anaconda3/lib/python3.8/site-packages/konlpy/tag/_okt.py:16: UserWarning: \"Twitter\" has changed to \"Okt\" since KoNLPy v0.4.5.\n",
      "  warn('\"Twitter\" has changed to \"Okt\" since KoNLPy v0.4.5.')\n"
     ]
    }
   ],
   "source": [
    "# Twitter -> Okt\n",
    "from konlpy.tag import Twitter\n",
    "t = Twitter()"
   ]
  },
  {
   "cell_type": "code",
   "execution_count": 4,
   "metadata": {},
   "outputs": [
    {
     "data": {
      "text/plain": [
       "[['상처', '받은', '아이', '들', '은', '너무', '일찍', '커버', '려'],\n",
       " ['내', '가', '상처', '받은', '거', '아는', '사람', '불편해'],\n",
       " ['잘', '사는', '사람', '들', '은', '좋은', '사람', '되기', '쉬워'],\n",
       " ['아무', '일도', '아니야', '괜찮아']]"
      ]
     },
     "execution_count": 4,
     "metadata": {},
     "output_type": "execute_result"
    }
   ],
   "source": [
    "# 형태소 분석\n",
    "contents_tokens = [t.morphs(row) for row in contents]\n",
    "contents_tokens"
   ]
  },
  {
   "cell_type": "code",
   "execution_count": 5,
   "metadata": {},
   "outputs": [
    {
     "data": {
      "text/plain": [
       "[' 상처 받은 아이 들 은 너무 일찍 커버 려',\n",
       " ' 내 가 상처 받은 거 아는 사람 불편해',\n",
       " ' 잘 사는 사람 들 은 좋은 사람 되기 쉬워',\n",
       " ' 아무 일도 아니야 괜찮아']"
      ]
     },
     "execution_count": 5,
     "metadata": {},
     "output_type": "execute_result"
    }
   ],
   "source": [
    "# 다시 문장으로\n",
    "contents_for_vectorize = []\n",
    "\n",
    "for content in contents_tokens:\n",
    "    sentence = ''\n",
    "    for word in content:\n",
    "        sentence = sentence + ' ' + word\n",
    "        \n",
    "    contents_for_vectorize.append(sentence)\n",
    "\n",
    "contents_for_vectorize"
   ]
  },
  {
   "cell_type": "code",
   "execution_count": 6,
   "metadata": {},
   "outputs": [
    {
     "data": {
      "text/plain": [
       "<4x17 sparse matrix of type '<class 'numpy.int64'>'\n",
       "\twith 20 stored elements in Compressed Sparse Row format>"
      ]
     },
     "execution_count": 6,
     "metadata": {},
     "output_type": "execute_result"
    }
   ],
   "source": [
    "# 벡터라이즈\n",
    "X = vectorizer.fit_transform(contents_for_vectorize)\n",
    "X"
   ]
  },
  {
   "cell_type": "code",
   "execution_count": 7,
   "metadata": {},
   "outputs": [
    {
     "data": {
      "text/plain": [
       "(4, 17)"
      ]
     },
     "execution_count": 7,
     "metadata": {},
     "output_type": "execute_result"
    }
   ],
   "source": [
    "num_samples, num_features = X.shape\n",
    "num_samples, num_features"
   ]
  },
  {
   "cell_type": "code",
   "execution_count": 8,
   "metadata": {},
   "outputs": [
    {
     "data": {
      "text/plain": [
       "['괜찮아',\n",
       " '너무',\n",
       " '되기',\n",
       " '받은',\n",
       " '불편해',\n",
       " '사는',\n",
       " '사람',\n",
       " '상처',\n",
       " '쉬워',\n",
       " '아는',\n",
       " '아니야',\n",
       " '아무',\n",
       " '아이',\n",
       " '일도',\n",
       " '일찍',\n",
       " '좋은',\n",
       " '커버']"
      ]
     },
     "execution_count": 8,
     "metadata": {},
     "output_type": "execute_result"
    }
   ],
   "source": [
    "vectorizer.get_feature_names()"
   ]
  },
  {
   "cell_type": "code",
   "execution_count": 9,
   "metadata": {},
   "outputs": [
    {
     "data": {
      "text/plain": [
       "array([[0, 0, 0, 1],\n",
       "       [1, 0, 0, 0],\n",
       "       [0, 0, 1, 0],\n",
       "       [1, 1, 0, 0],\n",
       "       [0, 1, 0, 0],\n",
       "       [0, 0, 1, 0],\n",
       "       [0, 1, 2, 0],\n",
       "       [1, 1, 0, 0],\n",
       "       [0, 0, 1, 0],\n",
       "       [0, 1, 0, 0],\n",
       "       [0, 0, 0, 1],\n",
       "       [0, 0, 0, 1],\n",
       "       [1, 0, 0, 0],\n",
       "       [0, 0, 0, 1],\n",
       "       [1, 0, 0, 0],\n",
       "       [0, 0, 1, 0],\n",
       "       [1, 0, 0, 0]])"
      ]
     },
     "execution_count": 9,
     "metadata": {},
     "output_type": "execute_result"
    }
   ],
   "source": [
    "X.toarray().transpose()"
   ]
  },
  {
   "cell_type": "code",
   "execution_count": 10,
   "metadata": {},
   "outputs": [
    {
     "data": {
      "text/plain": [
       "[' 상처 받기 싫어 괜찮아']"
      ]
     },
     "execution_count": 10,
     "metadata": {},
     "output_type": "execute_result"
    }
   ],
   "source": [
    "# 테스트용 문장\n",
    "new_post = ['상처받기 싫어 괜찮아']\n",
    "new_post_tokens = [t.morphs(row) for row in new_post]\n",
    "\n",
    "new_post_for_vectorize = []\n",
    "\n",
    "for content in new_post_tokens:\n",
    "    sentence = ''\n",
    "    for word in content:\n",
    "        sentence = sentence + ' ' + word\n",
    "        \n",
    "    new_post_for_vectorize.append(sentence)\n",
    "\n",
    "new_post_for_vectorize"
   ]
  },
  {
   "cell_type": "code",
   "execution_count": 11,
   "metadata": {},
   "outputs": [
    {
     "data": {
      "text/plain": [
       "array([[1, 0, 0, 0, 0, 0, 0, 1, 0, 0, 0, 0, 0, 0, 0, 0, 0]])"
      ]
     },
     "execution_count": 11,
     "metadata": {},
     "output_type": "execute_result"
    }
   ],
   "source": [
    "new_post_vec = vectorizer.transform(new_post_for_vectorize)\n",
    "new_post_vec.toarray()\n",
    "# 괜찮아, 0, 0, 0, .., '상처', 0, 0, 0, .."
   ]
  },
  {
   "cell_type": "code",
   "execution_count": 12,
   "metadata": {},
   "outputs": [],
   "source": [
    "# 유클리드 거리\n",
    "import scipy as sp\n",
    "\n",
    "def dist_raw(v1, v2):\n",
    "    delta = v1 - v2\n",
    "    return sp.linalg.norm(delta.toarray())"
   ]
  },
  {
   "cell_type": "code",
   "execution_count": 13,
   "metadata": {},
   "outputs": [
    {
     "data": {
      "text/plain": [
       "[2.449489742783178, 2.23606797749979, 3.1622776601683795, 2.0]"
      ]
     },
     "execution_count": 13,
     "metadata": {},
     "output_type": "execute_result"
    }
   ],
   "source": [
    "dist = [dist_raw(each, new_post_vec) for each in X]\n",
    "dist"
   ]
  },
  {
   "cell_type": "code",
   "execution_count": 14,
   "metadata": {},
   "outputs": [
    {
     "name": "stdout",
     "output_type": "stream",
     "text": [
      "Best post is  3 dist =  2.0\n",
      "test post is -->  ['상처받기 싫어 괜찮아']\n",
      "best dist post is -->  아무 일도 아니야 괜찮아\n"
     ]
    }
   ],
   "source": [
    "print(\"Best post is \", dist.index(min(dist)), \"dist = \", min(dist))\n",
    "print(\"test post is --> \", new_post)\n",
    "print(\"best dist post is --> \", contents[dist.index(min(dist))])"
   ]
  },
  {
   "cell_type": "code",
   "execution_count": 15,
   "metadata": {},
   "outputs": [
    {
     "name": "stdout",
     "output_type": "stream",
     "text": [
      "[[0 1 0 1 0 0 0 1 0 0 0 0 1 0 1 0 1]]\n",
      "[[0 0 0 1 1 0 1 1 0 1 0 0 0 0 0 0 0]]\n",
      "[[0 0 1 0 0 1 2 0 1 0 0 0 0 0 0 1 0]]\n",
      "[[1 0 0 0 0 0 0 0 0 0 1 1 0 1 0 0 0]]\n",
      "-------------------------------------\n",
      "[[1 0 0 0 0 0 0 1 0 0 0 0 0 0 0 0 0]]\n"
     ]
    }
   ],
   "source": [
    "for i in range(0, len(contents)):\n",
    "    print(X.getrow(i).toarray())\n",
    "\n",
    "print('-------------------------------------')\n",
    "print(new_post_vec.toarray())"
   ]
  },
  {
   "cell_type": "markdown",
   "metadata": {},
   "source": [
    "### TF-IDF"
   ]
  },
  {
   "cell_type": "code",
   "execution_count": 16,
   "metadata": {},
   "outputs": [],
   "source": [
    "#TfidVectorizer\n",
    "from sklearn.feature_extraction.text import TfidfVectorizer\n",
    "vectorizer = TfidfVectorizer(min_df=1, decode_error='ignore')"
   ]
  },
  {
   "cell_type": "code",
   "execution_count": 21,
   "metadata": {},
   "outputs": [
    {
     "data": {
      "text/plain": [
       "(4, 17)"
      ]
     },
     "execution_count": 21,
     "metadata": {},
     "output_type": "execute_result"
    }
   ],
   "source": [
    "# 다시 적용\n",
    "X = vectorizer.fit_transform(contents_for_vectorize)\n",
    "num_samples, num_features = X.shape\n",
    "num_samples, num_features"
   ]
  },
  {
   "cell_type": "code",
   "execution_count": 22,
   "metadata": {},
   "outputs": [
    {
     "data": {
      "text/plain": [
       "array([[0.        , 0.        , 0.        , 0.5       ],\n",
       "       [0.43671931, 0.        , 0.        , 0.        ],\n",
       "       [0.        , 0.        , 0.39264414, 0.        ],\n",
       "       [0.34431452, 0.40104275, 0.        , 0.        ],\n",
       "       [0.        , 0.50867187, 0.        , 0.        ],\n",
       "       [0.        , 0.        , 0.39264414, 0.        ],\n",
       "       [0.        , 0.40104275, 0.6191303 , 0.        ],\n",
       "       [0.34431452, 0.40104275, 0.        , 0.        ],\n",
       "       [0.        , 0.        , 0.39264414, 0.        ],\n",
       "       [0.        , 0.50867187, 0.        , 0.        ],\n",
       "       [0.        , 0.        , 0.        , 0.5       ],\n",
       "       [0.        , 0.        , 0.        , 0.5       ],\n",
       "       [0.43671931, 0.        , 0.        , 0.        ],\n",
       "       [0.        , 0.        , 0.        , 0.5       ],\n",
       "       [0.43671931, 0.        , 0.        , 0.        ],\n",
       "       [0.        , 0.        , 0.39264414, 0.        ],\n",
       "       [0.43671931, 0.        , 0.        , 0.        ]])"
      ]
     },
     "execution_count": 22,
     "metadata": {},
     "output_type": "execute_result"
    }
   ],
   "source": [
    "X.toarray().transpose()"
   ]
  },
  {
   "cell_type": "code",
   "execution_count": 23,
   "metadata": {},
   "outputs": [
    {
     "data": {
      "text/plain": [
       "array([[0.78528828, 0.        , 0.        , 0.        , 0.        ,\n",
       "        0.        , 0.        , 0.6191303 , 0.        , 0.        ,\n",
       "        0.        , 0.        , 0.        , 0.        , 0.        ,\n",
       "        0.        , 0.        ]])"
      ]
     },
     "execution_count": 23,
     "metadata": {},
     "output_type": "execute_result"
    }
   ],
   "source": [
    "new_post_vec = vectorizer.transform(new_post_for_vectorize)\n",
    "new_post_vec.toarray()"
   ]
  },
  {
   "cell_type": "code",
   "execution_count": 27,
   "metadata": {},
   "outputs": [],
   "source": [
    "# 거리를 구하는 또다른 방법 normailize\n",
    "\n",
    "def dist_norm(v1, v2):\n",
    "    v1_normalized = v1 / sp.linalg.norm(v1.toarray())\n",
    "    v2_normalized = v2 / sp.linalg.norm(v2.toarray())\n",
    "    \n",
    "    delta = v1_normalized - v2_normalized\n",
    "    \n",
    "    return sp.linalg.norm(delta.toarray())"
   ]
  },
  {
   "cell_type": "code",
   "execution_count": 28,
   "metadata": {},
   "outputs": [
    {
     "name": "stdout",
     "output_type": "stream",
     "text": [
      "Best post is  3 dist =  1.1021396119773588\n",
      "test post is -->  ['상처받기 싫어 괜찮아']\n",
      "best dist post is -->  아무 일도 아니야 괜찮아\n"
     ]
    }
   ],
   "source": [
    "dist = [dist_norm(each, new_post_vec) for each in X]\n",
    "\n",
    "print(\"Best post is \", dist.index(min(dist)), \"dist = \", min(dist))\n",
    "print(\"test post is --> \", new_post)\n",
    "print(\"best dist post is --> \", contents[dist.index(min(dist))])"
   ]
  },
  {
   "cell_type": "markdown",
   "metadata": {},
   "source": [
    "### 실전 크롤링"
   ]
  },
  {
   "cell_type": "code",
   "execution_count": 29,
   "metadata": {},
   "outputs": [],
   "source": [
    "import json\n",
    "import datetime\n",
    "import urllib.request\n",
    "\n",
    "def gen_search_url(api_node, search_text, start_num, disp_num):\n",
    "    base = \"https://openapi.naver.com/v1/search\"\n",
    "    node = \"/\" + api_node + \".json\"\n",
    "    param_query = \"?query=\" + urllib.parse.quote(search_text)\n",
    "    param_start = \"&start=\" + str(start_num)\n",
    "    param_disp = \"&display=\" + str(disp_num)\n",
    "    \n",
    "    return base + node + param_query + param_start + param_disp\n",
    "\n",
    "def get_result_onpage(url):\n",
    "    request = urllib.request.Request(url)\n",
    "    request.add_header(\"X-Naver-Client-Id\", client_id)\n",
    "    request.add_header(\"X-Naver-Client-Secret\", client_secret)\n",
    "\n",
    "    response = urllib.request.urlopen(request)\n",
    "    \n",
    "    print(\"[%s] Url Request Success\" % datetime.datetime.now())\n",
    "    \n",
    "    return json.loads(response.read().decode(\"utf-8\"))"
   ]
  },
  {
   "cell_type": "code",
   "execution_count": 30,
   "metadata": {},
   "outputs": [
    {
     "name": "stdout",
     "output_type": "stream",
     "text": [
      "[2021-01-08 11:06:39.474926] Url Request Success\n"
     ]
    },
    {
     "data": {
      "text/plain": [
       "{'lastBuildDate': 'Fri, 08 Jan 2021 11:06:39 +0900',\n",
       " 'total': 163267,\n",
       " 'start': 10,\n",
       " 'display': 10,\n",
       " 'items': [{'title': '<b>파이썬</b> 슬라이싱 관련 질문이요',\n",
       "   'link': 'https://kin.naver.com/qna/detail.nhn?d1id=1&dirId=10402&docId=376977428&qb=7YyM7J207I2s&enc=utf8&section=kin.qna&rank=10&search_sort=0&spq=0',\n",
       "   'description': \"string = &quot;홀짝홀짝홀짝&quot;print(string[::2]) <b>파이썬</b>에서 이 코드를 실행시키면 '홀홀홀'이 나오는데 이유가 뭔가요?... 이 의미는 첫 번째 요소(<b>파이썬</b>의 인덱스는 0 부터 시작합니다) 부터 끝까지(-1 은 끝에서 첫 번째를 의미합니다.) 1... \"},\n",
       "  {'title': '아ㅏ어쩌죠 <b>파이썬</b>독학하고 싶은데 먼저 뭐해야하낭ㅇ요',\n",
       "   'link': 'https://kin.naver.com/qna/detail.nhn?d1id=4&dirId=40608&docId=375044291&qb=7YyM7J207I2s&enc=utf8&section=kin.qna&rank=11&search_sort=0&spq=0',\n",
       "   'description': '<b>파이썬</b>으로 자격증따고싶어요!! 아직나이ㅣ어리니까 시간도많고 아이구조아라 <b>파이썬</b>시작하려면 뭐부터해야하나요?! <b>파이썬</b>이 조금 익숙해지면 인터넷강의도... C언어 관계없이 <b>파이썬</b> 설치부터, 변수, 자료형 ~ 처음 부터... '},\n",
       "  {'title': '<b>파이썬</b>인강 추천해주세요.',\n",
       "   'link': 'https://kin.naver.com/qna/detail.nhn?d1id=1&dirId=10402&docId=376128989&qb=7YyM7J207I2s&enc=utf8&section=kin.qna&rank=12&search_sort=0&spq=0',\n",
       "   'description': '<b>파이썬</b>인강 보면서 방학때 공부하려 하는데요 유튭은 보다가 답답해서 포기했어요 ㅜ 괜찮은 <b>파이썬</b>인강 사이트 아는것 있으면 추천좀 해주세요!!! 안녕하세요~ <b>파이썬</b>인강을... 아무래도 <b>파이썬</b>을 공부하고 싶으신데 처음 접한다면... '},\n",
       "  {'title': '<b>파이썬</b>을 처음 시작하게되었는데요. 게',\n",
       "   'link': 'https://kin.naver.com/qna/detail.nhn?d1id=1&dirId=10402&docId=376972844&qb=7YyM7J207I2s&enc=utf8&section=kin.qna&rank=13&search_sort=0&spq=0',\n",
       "   'description': '<b>파이썬</b>을 처음 시작하게되었는데요. 게임코딩을 유튜브를 보면서 따라하고 있습니다. <b>파이썬</b>을 이클립스로... 실행되지않고, <b>파이썬</b> 자체에서도 실행되지 않습니다.... 무슨문제가 있고 왜 그런지 알려주세요ㅠㅠ  <b>파이썬</b>... '},\n",
       "  {'title': '<b>파이썬</b> 과제좀 알려주세요ㅠㅠ',\n",
       "   'link': 'https://kin.naver.com/qna/detail.nhn?d1id=1&dirId=10402&docId=375864197&qb=7YyM7J207I2s&enc=utf8&section=kin.qna&rank=14&search_sort=0&spq=0',\n",
       "   'description': '<b>파이썬</b> 과제좀 알려주세요ㅠㅠ  안녕하세요. 지식인에서도 과제풀이를 해주시는 분이 계시긴 하지만... C언어, <b>파이썬</b>, 자바 등의 코딩이나 프로그래밍 작업에 대해 문의줘보실 수 있는데요. 관련하여 사이트... '},\n",
       "  {'title': '<b>파이썬</b>에 대해',\n",
       "   'link': 'https://kin.naver.com/qna/detail.nhn?d1id=1&dirId=104&docId=378011267&qb=7YyM7J207I2s&enc=utf8&section=kin.qna&rank=15&search_sort=0&spq=0',\n",
       "   'description': '... 이번에 <b>파이썬</b> 프로그래밍 언어에 도전을 해보려고 합니다 스크래치 코딩은 많이 해 보았는데 <b>파이썬</b> 같은 영어 타이핑 코딩은 처음이고 <b>파이썬</b>에 대해 아무것도 모르는 상태에서 시작을 했습니다 물론 <b>파이썬</b>보다 좋은 언어가... '},\n",
       "  {'title': '<b>파이썬</b> 인강 들어보려 하는데',\n",
       "   'link': 'https://kin.naver.com/qna/detail.nhn?d1id=1&dirId=10402&docId=377543382&qb=7YyM7J207I2s&enc=utf8&section=kin.qna&rank=16&search_sort=0&spq=0',\n",
       "   'description': '1월에 <b>파이썬</b> 인강 들어보려 하는데 어떤 <b>파이썬</b> 인강 들어볼까요? 1. 비대면 강의: 비대면으로 실습할 수 있는 비대면라이브 강의가 있어요. 오프라인 학원 수업을 그대로 온라인으로 옮겨 놨다고 생각하면 될 것 같아요. 자세한 건 아래... '},\n",
       "  {'title': '<b>파이썬</b> 비대면교육 가능할까요?',\n",
       "   'link': 'https://kin.naver.com/qna/detail.nhn?d1id=4&dirId=40613&docId=373648431&qb=7YyM7J207I2s&enc=utf8&section=kin.qna&rank=17&search_sort=0&spq=0',\n",
       "   'description': '주말에 시간이 남아서 개인발전을 할려고 하다가 <b>파이썬</b>이 요즘 많이 사용... 지거든요 <b>파이썬</b>비대면수업좀 추천해 주세요 IT분야는 실습 부분 때문에... c언어,<b>파이썬</b>,리눅스,ccna정도 비대면으로 교육을 진행 하고 있습니다... '},\n",
       "  {'title': '자바 <b>파이썬</b> 미래 전망',\n",
       "   'link': 'https://kin.naver.com/qna/detail.nhn?d1id=1&dirId=10402&docId=375273020&qb=7YyM7J207I2s&enc=utf8&section=kin.qna&rank=18&search_sort=0&spq=0',\n",
       "   'description': '... 많고, <b>파이썬</b>을 중심으로 하는 국비 교육은 부족합니다.... <b>파이썬</b>을 배우려는 이유는 최근 빅데이터에대한 수요가 늘면서 <b>파이썬</b>을 깊이 있게 공부해서 빅데이터 관련... 넓구요 <b>파이썬</b>도 같이 공부하세요! 하고 싶으면... '},\n",
       "  {'title': '아두이노 <b>파이썬</b> 연결 질문...',\n",
       "   'link': 'https://kin.naver.com/qna/detail.nhn?d1id=1&dirId=104&docId=377191203&qb=7YyM7J207I2s&enc=utf8&section=kin.qna&rank=19&search_sort=0&spq=0',\n",
       "   'description': \"현재 <b>파이썬</b>으로 시리얼 값을 입력 받아서 만약 <b>파이썬</b>으로 '3'을 입력하면 빨간 led와 노란... 싶었는데 [<b>파이썬</b> 코드] import serial arduino=serial.... read(); } } } 이렇게 코드를 작성했더니 <b>파이썬</b>에... \"}]}"
      ]
     },
     "execution_count": 30,
     "metadata": {},
     "output_type": "execute_result"
    }
   ],
   "source": [
    "client_id = \"1J8AA25gNpLQl6ddcR8l\"\n",
    "client_secret = \"HOYGXlyWjm\"\n",
    "\n",
    "url = gen_search_url('kin', '파이썬', 10, 10)\n",
    "one_result = get_result_onpage(url)\n",
    "one_result"
   ]
  },
  {
   "cell_type": "code",
   "execution_count": 31,
   "metadata": {},
   "outputs": [
    {
     "data": {
      "text/plain": [
       "\"string = &quot;홀짝홀짝홀짝&quot;print(string[::2]) <b>파이썬</b>에서 이 코드를 실행시키면 '홀홀홀'이 나오는데 이유가 뭔가요?... 이 의미는 첫 번째 요소(<b>파이썬</b>의 인덱스는 0 부터 시작합니다) 부터 끝까지(-1 은 끝에서 첫 번째를 의미합니다.) 1... \""
      ]
     },
     "execution_count": 31,
     "metadata": {},
     "output_type": "execute_result"
    }
   ],
   "source": [
    "one_result['items'][0]['description']"
   ]
  },
  {
   "cell_type": "code",
   "execution_count": 32,
   "metadata": {},
   "outputs": [],
   "source": [
    "def delete_tag(input_str):\n",
    "    input_str = input_str.replace(\"<b>\", \"\")\n",
    "    input_str = input_str.replace(\"</b>\", \"\")\n",
    "    \n",
    "    return input_str\n",
    "\n",
    "def get_description(pages):\n",
    "    contents = []\n",
    "    for sentences in pages['items']:\n",
    "        contents.append(delete_tag(sentences['description']))\n",
    "    \n",
    "    return contents"
   ]
  },
  {
   "cell_type": "code",
   "execution_count": 33,
   "metadata": {},
   "outputs": [
    {
     "data": {
      "text/plain": [
       "[\"string = &quot;홀짝홀짝홀짝&quot;print(string[::2]) 파이썬에서 이 코드를 실행시키면 '홀홀홀'이 나오는데 이유가 뭔가요?... 이 의미는 첫 번째 요소(파이썬의 인덱스는 0 부터 시작합니다) 부터 끝까지(-1 은 끝에서 첫 번째를 의미합니다.) 1... \",\n",
       " '파이썬으로 자격증따고싶어요!! 아직나이ㅣ어리니까 시간도많고 아이구조아라 파이썬시작하려면 뭐부터해야하나요?! 파이썬이 조금 익숙해지면 인터넷강의도... C언어 관계없이 파이썬 설치부터, 변수, 자료형 ~ 처음 부터... ',\n",
       " '파이썬인강 보면서 방학때 공부하려 하는데요 유튭은 보다가 답답해서 포기했어요 ㅜ 괜찮은 파이썬인강 사이트 아는것 있으면 추천좀 해주세요!!! 안녕하세요~ 파이썬인강을... 아무래도 파이썬을 공부하고 싶으신데 처음 접한다면... ',\n",
       " '파이썬을 처음 시작하게되었는데요. 게임코딩을 유튜브를 보면서 따라하고 있습니다. 파이썬을 이클립스로... 실행되지않고, 파이썬 자체에서도 실행되지 않습니다.... 무슨문제가 있고 왜 그런지 알려주세요ㅠㅠ  파이썬... ',\n",
       " '파이썬 과제좀 알려주세요ㅠㅠ  안녕하세요. 지식인에서도 과제풀이를 해주시는 분이 계시긴 하지만... C언어, 파이썬, 자바 등의 코딩이나 프로그래밍 작업에 대해 문의줘보실 수 있는데요. 관련하여 사이트... ',\n",
       " '... 이번에 파이썬 프로그래밍 언어에 도전을 해보려고 합니다 스크래치 코딩은 많이 해 보았는데 파이썬 같은 영어 타이핑 코딩은 처음이고 파이썬에 대해 아무것도 모르는 상태에서 시작을 했습니다 물론 파이썬보다 좋은 언어가... ',\n",
       " '1월에 파이썬 인강 들어보려 하는데 어떤 파이썬 인강 들어볼까요? 1. 비대면 강의: 비대면으로 실습할 수 있는 비대면라이브 강의가 있어요. 오프라인 학원 수업을 그대로 온라인으로 옮겨 놨다고 생각하면 될 것 같아요. 자세한 건 아래... ',\n",
       " '주말에 시간이 남아서 개인발전을 할려고 하다가 파이썬이 요즘 많이 사용... 지거든요 파이썬비대면수업좀 추천해 주세요 IT분야는 실습 부분 때문에... c언어,파이썬,리눅스,ccna정도 비대면으로 교육을 진행 하고 있습니다... ',\n",
       " '... 많고, 파이썬을 중심으로 하는 국비 교육은 부족합니다.... 파이썬을 배우려는 이유는 최근 빅데이터에대한 수요가 늘면서 파이썬을 깊이 있게 공부해서 빅데이터 관련... 넓구요 파이썬도 같이 공부하세요! 하고 싶으면... ',\n",
       " \"현재 파이썬으로 시리얼 값을 입력 받아서 만약 파이썬으로 '3'을 입력하면 빨간 led와 노란... 싶었는데 [파이썬 코드] import serial arduino=serial.... read(); } } } 이렇게 코드를 작성했더니 파이썬에... \"]"
      ]
     },
     "execution_count": 33,
     "metadata": {},
     "output_type": "execute_result"
    }
   ],
   "source": [
    "contents = get_description(one_result)\n",
    "contents"
   ]
  },
  {
   "cell_type": "code",
   "execution_count": 34,
   "metadata": {},
   "outputs": [],
   "source": [
    "from sklearn.feature_extraction.text import CountVectorizer\n",
    "from konlpy.tag import Okt\n",
    "\n",
    "t = Okt()\n",
    "vectorizer = CountVectorizer(min_df=1)"
   ]
  },
  {
   "cell_type": "code",
   "execution_count": 35,
   "metadata": {
    "scrolled": true
   },
   "outputs": [
    {
     "data": {
      "text/plain": [
       "[['string',\n",
       "  '=',\n",
       "  '&',\n",
       "  'quot',\n",
       "  ';',\n",
       "  '홀짝',\n",
       "  '홀짝',\n",
       "  '홀짝',\n",
       "  '&',\n",
       "  'quot',\n",
       "  ';',\n",
       "  'print',\n",
       "  '(',\n",
       "  'string',\n",
       "  '[::',\n",
       "  '2',\n",
       "  '])',\n",
       "  '파이썬',\n",
       "  '에서',\n",
       "  '이',\n",
       "  '코드',\n",
       "  '를',\n",
       "  '실행',\n",
       "  '시키면',\n",
       "  \"'\",\n",
       "  '홀홀',\n",
       "  '홀',\n",
       "  \"'\",\n",
       "  '이',\n",
       "  '나오는데',\n",
       "  '이유',\n",
       "  '가',\n",
       "  '뭔가',\n",
       "  '요',\n",
       "  '?...',\n",
       "  '이',\n",
       "  '의미',\n",
       "  '는',\n",
       "  '첫',\n",
       "  '번째',\n",
       "  '요소',\n",
       "  '(',\n",
       "  '파이썬',\n",
       "  '의',\n",
       "  '인덱스',\n",
       "  '는',\n",
       "  '0',\n",
       "  '부터',\n",
       "  '시작',\n",
       "  '합니다',\n",
       "  ')',\n",
       "  '부터',\n",
       "  '끝',\n",
       "  '까지',\n",
       "  '(-',\n",
       "  '1',\n",
       "  '은',\n",
       "  '끝',\n",
       "  '에서',\n",
       "  '첫',\n",
       "  '번',\n",
       "  '째',\n",
       "  '를',\n",
       "  '의미',\n",
       "  '합니다',\n",
       "  '.)',\n",
       "  '1',\n",
       "  '...'],\n",
       " ['파이썬',\n",
       "  '으로',\n",
       "  '자격증',\n",
       "  '따고싶어요',\n",
       "  '!!',\n",
       "  '아직',\n",
       "  '나이',\n",
       "  'ㅣ',\n",
       "  '어리니까',\n",
       "  '시간',\n",
       "  '도',\n",
       "  '많고',\n",
       "  '아이구',\n",
       "  '조아라',\n",
       "  '파이썬',\n",
       "  '시작',\n",
       "  '하려면',\n",
       "  '뭐',\n",
       "  '부터',\n",
       "  '해야하나요',\n",
       "  '?!',\n",
       "  '파이썬',\n",
       "  '이',\n",
       "  '조금',\n",
       "  '익숙해지면',\n",
       "  '인터넷',\n",
       "  '강의',\n",
       "  '도',\n",
       "  '...',\n",
       "  'C',\n",
       "  '언어',\n",
       "  '관계없이',\n",
       "  '파이썬',\n",
       "  '설치',\n",
       "  '부터',\n",
       "  ',',\n",
       "  '변수',\n",
       "  ',',\n",
       "  '자료형',\n",
       "  '~',\n",
       "  '처음',\n",
       "  '부터',\n",
       "  '...'],\n",
       " ['파이썬',\n",
       "  '인강',\n",
       "  '보면서',\n",
       "  '방학',\n",
       "  '때',\n",
       "  '공부',\n",
       "  '하려',\n",
       "  '하는데요',\n",
       "  '유튭',\n",
       "  '은',\n",
       "  '보다가',\n",
       "  '답답해서',\n",
       "  '포기',\n",
       "  '했어요',\n",
       "  'ㅜ',\n",
       "  '괜찮은',\n",
       "  '파이썬',\n",
       "  '인강',\n",
       "  '사이트',\n",
       "  '아는것',\n",
       "  '있으면',\n",
       "  '추천',\n",
       "  '좀',\n",
       "  '해주세요',\n",
       "  '!!!',\n",
       "  '안녕하세요',\n",
       "  '~',\n",
       "  '파이썬',\n",
       "  '인강',\n",
       "  '을',\n",
       "  '...',\n",
       "  '아무래도',\n",
       "  '파이썬',\n",
       "  '을',\n",
       "  '공부',\n",
       "  '하고',\n",
       "  '싶으신',\n",
       "  '데',\n",
       "  '처음',\n",
       "  '접',\n",
       "  '한',\n",
       "  '다',\n",
       "  '면',\n",
       "  '...'],\n",
       " ['파이썬',\n",
       "  '을',\n",
       "  '처음',\n",
       "  '시작',\n",
       "  '하게',\n",
       "  '되었는데요',\n",
       "  '.',\n",
       "  '게임',\n",
       "  '코딩',\n",
       "  '을',\n",
       "  '유튜브',\n",
       "  '를',\n",
       "  '보면서',\n",
       "  '따라하고',\n",
       "  '있습니다',\n",
       "  '.',\n",
       "  '파이썬',\n",
       "  '을',\n",
       "  '이클립스',\n",
       "  '로',\n",
       "  '...',\n",
       "  '실행',\n",
       "  '되지',\n",
       "  '않고',\n",
       "  ',',\n",
       "  '파이썬',\n",
       "  '자체',\n",
       "  '에서도',\n",
       "  '실행',\n",
       "  '되지',\n",
       "  '않습니다',\n",
       "  '....',\n",
       "  '무슨',\n",
       "  '문제',\n",
       "  '가',\n",
       "  '있고',\n",
       "  '왜',\n",
       "  '그런지',\n",
       "  '알려주세요',\n",
       "  'ㅠㅠ',\n",
       "  '파이썬',\n",
       "  '...'],\n",
       " ['파이썬',\n",
       "  '과제',\n",
       "  '좀',\n",
       "  '알려주세요',\n",
       "  'ㅠㅠ',\n",
       "  '안녕하세요',\n",
       "  '.',\n",
       "  '지식인',\n",
       "  '에서도',\n",
       "  '과제',\n",
       "  '풀이',\n",
       "  '를',\n",
       "  '해주시',\n",
       "  '는',\n",
       "  '분',\n",
       "  '이',\n",
       "  '계시긴',\n",
       "  '하지만',\n",
       "  '...',\n",
       "  'C',\n",
       "  '언어',\n",
       "  ',',\n",
       "  '파이썬',\n",
       "  ',',\n",
       "  '자바',\n",
       "  '등',\n",
       "  '의',\n",
       "  '코딩',\n",
       "  '이나',\n",
       "  '프로그래밍',\n",
       "  '작업',\n",
       "  '에',\n",
       "  '대해',\n",
       "  '문의',\n",
       "  '줘',\n",
       "  '보실',\n",
       "  '수',\n",
       "  '있는데요',\n",
       "  '.',\n",
       "  '관련',\n",
       "  '하여',\n",
       "  '사이트',\n",
       "  '...'],\n",
       " ['...',\n",
       "  '이번',\n",
       "  '에',\n",
       "  '파이썬',\n",
       "  '프로그래밍',\n",
       "  '언어',\n",
       "  '에',\n",
       "  '도전',\n",
       "  '을',\n",
       "  '해보려고',\n",
       "  '합니다',\n",
       "  '스크래치',\n",
       "  '코딩',\n",
       "  '은',\n",
       "  '많이',\n",
       "  '해',\n",
       "  '보았는데',\n",
       "  '파이썬',\n",
       "  '같은',\n",
       "  '영어',\n",
       "  '타이핑',\n",
       "  '코딩',\n",
       "  '은',\n",
       "  '처음',\n",
       "  '이고',\n",
       "  '파이썬',\n",
       "  '에',\n",
       "  '대해',\n",
       "  '아무',\n",
       "  '것',\n",
       "  '도',\n",
       "  '모르는',\n",
       "  '상태',\n",
       "  '에서',\n",
       "  '시작',\n",
       "  '을',\n",
       "  '했습니다',\n",
       "  '물론',\n",
       "  '파이썬',\n",
       "  '보다',\n",
       "  '좋은',\n",
       "  '언어',\n",
       "  '가',\n",
       "  '...'],\n",
       " ['1월',\n",
       "  '에',\n",
       "  '파이썬',\n",
       "  '인강',\n",
       "  '들어',\n",
       "  '보려',\n",
       "  '하는데',\n",
       "  '어떤',\n",
       "  '파이썬',\n",
       "  '인강',\n",
       "  '들어',\n",
       "  '볼까',\n",
       "  '요',\n",
       "  '?',\n",
       "  '1',\n",
       "  '.',\n",
       "  '비대',\n",
       "  '면',\n",
       "  '강의',\n",
       "  ':',\n",
       "  '비',\n",
       "  '대면',\n",
       "  '으로',\n",
       "  '실습',\n",
       "  '할',\n",
       "  '수',\n",
       "  '있는',\n",
       "  '비대',\n",
       "  '면',\n",
       "  '라이브',\n",
       "  '강의',\n",
       "  '가',\n",
       "  '있어요',\n",
       "  '.',\n",
       "  '오프라인',\n",
       "  '학원',\n",
       "  '수업',\n",
       "  '을',\n",
       "  '그대로',\n",
       "  '온라인',\n",
       "  '으로',\n",
       "  '옮겨',\n",
       "  '놨다',\n",
       "  '고',\n",
       "  '생각',\n",
       "  '하면',\n",
       "  '될',\n",
       "  '것',\n",
       "  '같아요',\n",
       "  '.',\n",
       "  '자세한',\n",
       "  '건',\n",
       "  '아래',\n",
       "  '...'],\n",
       " ['주말',\n",
       "  '에',\n",
       "  '시간',\n",
       "  '이',\n",
       "  '남아',\n",
       "  '서',\n",
       "  '개인',\n",
       "  '발전',\n",
       "  '을',\n",
       "  '할려고',\n",
       "  '하다가',\n",
       "  '파이썬',\n",
       "  '이',\n",
       "  '요즘',\n",
       "  '많이',\n",
       "  '사용',\n",
       "  '...',\n",
       "  '지거든요',\n",
       "  '파이썬',\n",
       "  '비대',\n",
       "  '면',\n",
       "  '수업',\n",
       "  '좀',\n",
       "  '추천',\n",
       "  '해',\n",
       "  '주세요',\n",
       "  'IT',\n",
       "  '분야',\n",
       "  '는',\n",
       "  '실습',\n",
       "  '부분',\n",
       "  '때문',\n",
       "  '에',\n",
       "  '...',\n",
       "  'c',\n",
       "  '언어',\n",
       "  ',',\n",
       "  '파이썬',\n",
       "  ',',\n",
       "  '리눅스',\n",
       "  ',',\n",
       "  'ccna',\n",
       "  '정도',\n",
       "  '비',\n",
       "  '대면',\n",
       "  '으로',\n",
       "  '교육',\n",
       "  '을',\n",
       "  '진행',\n",
       "  '하고',\n",
       "  '있습니다',\n",
       "  '...'],\n",
       " ['...',\n",
       "  '많고',\n",
       "  ',',\n",
       "  '파이썬',\n",
       "  '을',\n",
       "  '중심',\n",
       "  '으로',\n",
       "  '하는',\n",
       "  '국비',\n",
       "  '교육',\n",
       "  '은',\n",
       "  '부족합니다',\n",
       "  '....',\n",
       "  '파이썬',\n",
       "  '을',\n",
       "  '배우려는',\n",
       "  '이유',\n",
       "  '는',\n",
       "  '최근',\n",
       "  '빅데이터',\n",
       "  '에',\n",
       "  '대한',\n",
       "  '수요',\n",
       "  '가',\n",
       "  '늘면서',\n",
       "  '파이썬',\n",
       "  '을',\n",
       "  '깊이',\n",
       "  '있게',\n",
       "  '공부',\n",
       "  '해서',\n",
       "  '빅데이터',\n",
       "  '관련',\n",
       "  '...',\n",
       "  '넓구요',\n",
       "  '파이썬',\n",
       "  '도',\n",
       "  '같이',\n",
       "  '공부',\n",
       "  '하세요',\n",
       "  '!',\n",
       "  '하고',\n",
       "  '싶으면',\n",
       "  '...'],\n",
       " ['현재',\n",
       "  '파이썬',\n",
       "  '으로',\n",
       "  '시리얼',\n",
       "  '값',\n",
       "  '을',\n",
       "  '입력',\n",
       "  '받아서',\n",
       "  '만약',\n",
       "  '파이썬',\n",
       "  '으로',\n",
       "  \"'\",\n",
       "  '3',\n",
       "  \"'\",\n",
       "  '을',\n",
       "  '입력',\n",
       "  '하면',\n",
       "  '빨간',\n",
       "  'led',\n",
       "  '와',\n",
       "  '노란',\n",
       "  '...',\n",
       "  '싶었는데',\n",
       "  '[',\n",
       "  '파이썬',\n",
       "  '코드',\n",
       "  ']',\n",
       "  'import',\n",
       "  'serial',\n",
       "  'arduino',\n",
       "  '=',\n",
       "  'serial',\n",
       "  '....',\n",
       "  'read',\n",
       "  '();',\n",
       "  '}',\n",
       "  '}',\n",
       "  '}',\n",
       "  '이렇게',\n",
       "  '코드',\n",
       "  '를',\n",
       "  '작성',\n",
       "  '했더니',\n",
       "  '파이썬',\n",
       "  '에',\n",
       "  '...']]"
      ]
     },
     "execution_count": 35,
     "metadata": {},
     "output_type": "execute_result"
    }
   ],
   "source": [
    "contents_tokens = [t.morphs(row) for row in contents]\n",
    "contents_tokens"
   ]
  },
  {
   "cell_type": "code",
   "execution_count": 36,
   "metadata": {},
   "outputs": [
    {
     "data": {
      "text/plain": [
       "[\" string = & quot ; 홀짝 홀짝 홀짝 & quot ; print ( string [:: 2 ]) 파이썬 에서 이 코드 를 실행 시키면 ' 홀홀 홀 ' 이 나오는데 이유 가 뭔가 요 ?... 이 의미 는 첫 번째 요소 ( 파이썬 의 인덱스 는 0 부터 시작 합니다 ) 부터 끝 까지 (- 1 은 끝 에서 첫 번 째 를 의미 합니다 .) 1 ...\",\n",
       " ' 파이썬 으로 자격증 따고싶어요 !! 아직 나이 ㅣ 어리니까 시간 도 많고 아이구 조아라 파이썬 시작 하려면 뭐 부터 해야하나요 ?! 파이썬 이 조금 익숙해지면 인터넷 강의 도 ... C 언어 관계없이 파이썬 설치 부터 , 변수 , 자료형 ~ 처음 부터 ...',\n",
       " ' 파이썬 인강 보면서 방학 때 공부 하려 하는데요 유튭 은 보다가 답답해서 포기 했어요 ㅜ 괜찮은 파이썬 인강 사이트 아는것 있으면 추천 좀 해주세요 !!! 안녕하세요 ~ 파이썬 인강 을 ... 아무래도 파이썬 을 공부 하고 싶으신 데 처음 접 한 다 면 ...',\n",
       " ' 파이썬 을 처음 시작 하게 되었는데요 . 게임 코딩 을 유튜브 를 보면서 따라하고 있습니다 . 파이썬 을 이클립스 로 ... 실행 되지 않고 , 파이썬 자체 에서도 실행 되지 않습니다 .... 무슨 문제 가 있고 왜 그런지 알려주세요 ㅠㅠ 파이썬 ...',\n",
       " ' 파이썬 과제 좀 알려주세요 ㅠㅠ 안녕하세요 . 지식인 에서도 과제 풀이 를 해주시 는 분 이 계시긴 하지만 ... C 언어 , 파이썬 , 자바 등 의 코딩 이나 프로그래밍 작업 에 대해 문의 줘 보실 수 있는데요 . 관련 하여 사이트 ...',\n",
       " ' ... 이번 에 파이썬 프로그래밍 언어 에 도전 을 해보려고 합니다 스크래치 코딩 은 많이 해 보았는데 파이썬 같은 영어 타이핑 코딩 은 처음 이고 파이썬 에 대해 아무 것 도 모르는 상태 에서 시작 을 했습니다 물론 파이썬 보다 좋은 언어 가 ...',\n",
       " ' 1월 에 파이썬 인강 들어 보려 하는데 어떤 파이썬 인강 들어 볼까 요 ? 1 . 비대 면 강의 : 비 대면 으로 실습 할 수 있는 비대 면 라이브 강의 가 있어요 . 오프라인 학원 수업 을 그대로 온라인 으로 옮겨 놨다 고 생각 하면 될 것 같아요 . 자세한 건 아래 ...',\n",
       " ' 주말 에 시간 이 남아 서 개인 발전 을 할려고 하다가 파이썬 이 요즘 많이 사용 ... 지거든요 파이썬 비대 면 수업 좀 추천 해 주세요 IT 분야 는 실습 부분 때문 에 ... c 언어 , 파이썬 , 리눅스 , ccna 정도 비 대면 으로 교육 을 진행 하고 있습니다 ...',\n",
       " ' ... 많고 , 파이썬 을 중심 으로 하는 국비 교육 은 부족합니다 .... 파이썬 을 배우려는 이유 는 최근 빅데이터 에 대한 수요 가 늘면서 파이썬 을 깊이 있게 공부 해서 빅데이터 관련 ... 넓구요 파이썬 도 같이 공부 하세요 ! 하고 싶으면 ...',\n",
       " \" 현재 파이썬 으로 시리얼 값 을 입력 받아서 만약 파이썬 으로 ' 3 ' 을 입력 하면 빨간 led 와 노란 ... 싶었는데 [ 파이썬 코드 ] import serial arduino = serial .... read (); } } } 이렇게 코드 를 작성 했더니 파이썬 에 ...\"]"
      ]
     },
     "execution_count": 36,
     "metadata": {},
     "output_type": "execute_result"
    }
   ],
   "source": [
    "contents_for_vectorize = []\n",
    "\n",
    "for content in contents_tokens:\n",
    "    sentence = ''\n",
    "    for word in content:\n",
    "        sentence = sentence + ' ' + word\n",
    "        \n",
    "    contents_for_vectorize.append(sentence)\n",
    "\n",
    "contents_for_vectorize"
   ]
  },
  {
   "cell_type": "code",
   "execution_count": 37,
   "metadata": {},
   "outputs": [
    {
     "data": {
      "text/plain": [
       "<10x192 sparse matrix of type '<class 'numpy.int64'>'\n",
       "\twith 247 stored elements in Compressed Sparse Row format>"
      ]
     },
     "execution_count": 37,
     "metadata": {},
     "output_type": "execute_result"
    }
   ],
   "source": [
    "X = vectorizer.fit_transform(contents_for_vectorize)\n",
    "X"
   ]
  },
  {
   "cell_type": "code",
   "execution_count": 38,
   "metadata": {},
   "outputs": [
    {
     "data": {
      "text/plain": [
       "(10, 192)"
      ]
     },
     "execution_count": 38,
     "metadata": {},
     "output_type": "execute_result"
    }
   ],
   "source": [
    "X.shape"
   ]
  },
  {
   "cell_type": "code",
   "execution_count": 39,
   "metadata": {},
   "outputs": [
    {
     "data": {
      "text/plain": [
       "['1월',\n",
       " 'arduino',\n",
       " 'ccna',\n",
       " 'import',\n",
       " 'it',\n",
       " 'led',\n",
       " 'print',\n",
       " 'quot',\n",
       " 'read',\n",
       " 'serial',\n",
       " 'string',\n",
       " 'ㅠㅠ',\n",
       " '강의',\n",
       " '같아요',\n",
       " '같은',\n",
       " '같이',\n",
       " '개인',\n",
       " '게임',\n",
       " '계시긴',\n",
       " '공부',\n",
       " '과제',\n",
       " '관계없이',\n",
       " '관련',\n",
       " '괜찮은',\n",
       " '교육',\n",
       " '국비',\n",
       " '그대로',\n",
       " '그런지',\n",
       " '깊이',\n",
       " '까지',\n",
       " '나오는데',\n",
       " '나이',\n",
       " '남아',\n",
       " '넓구요',\n",
       " '노란',\n",
       " '놨다',\n",
       " '늘면서',\n",
       " '답답해서',\n",
       " '대면',\n",
       " '대한',\n",
       " '대해',\n",
       " '도전',\n",
       " '되었는데요',\n",
       " '되지',\n",
       " '들어',\n",
       " '따고싶어요',\n",
       " '따라하고',\n",
       " '때문',\n",
       " '라이브',\n",
       " '리눅스',\n",
       " '만약',\n",
       " '많고',\n",
       " '많이',\n",
       " '모르는',\n",
       " '무슨',\n",
       " '문의',\n",
       " '문제',\n",
       " '물론',\n",
       " '뭔가',\n",
       " '받아서',\n",
       " '발전',\n",
       " '방학',\n",
       " '배우려는',\n",
       " '번째',\n",
       " '변수',\n",
       " '보다',\n",
       " '보다가',\n",
       " '보려',\n",
       " '보면서',\n",
       " '보실',\n",
       " '보았는데',\n",
       " '볼까',\n",
       " '부분',\n",
       " '부족합니다',\n",
       " '부터',\n",
       " '분야',\n",
       " '비대',\n",
       " '빅데이터',\n",
       " '빨간',\n",
       " '사용',\n",
       " '사이트',\n",
       " '상태',\n",
       " '생각',\n",
       " '설치',\n",
       " '수업',\n",
       " '수요',\n",
       " '스크래치',\n",
       " '시간',\n",
       " '시리얼',\n",
       " '시작',\n",
       " '시키면',\n",
       " '실습',\n",
       " '실행',\n",
       " '싶었는데',\n",
       " '싶으면',\n",
       " '싶으신',\n",
       " '아는것',\n",
       " '아래',\n",
       " '아무',\n",
       " '아무래도',\n",
       " '아이구',\n",
       " '아직',\n",
       " '안녕하세요',\n",
       " '않고',\n",
       " '않습니다',\n",
       " '알려주세요',\n",
       " '어떤',\n",
       " '어리니까',\n",
       " '언어',\n",
       " '에서',\n",
       " '에서도',\n",
       " '영어',\n",
       " '오프라인',\n",
       " '온라인',\n",
       " '옮겨',\n",
       " '요소',\n",
       " '요즘',\n",
       " '유튜브',\n",
       " '유튭',\n",
       " '으로',\n",
       " '의미',\n",
       " '이고',\n",
       " '이나',\n",
       " '이렇게',\n",
       " '이번',\n",
       " '이유',\n",
       " '이클립스',\n",
       " '익숙해지면',\n",
       " '인강',\n",
       " '인덱스',\n",
       " '인터넷',\n",
       " '입력',\n",
       " '있게',\n",
       " '있고',\n",
       " '있는',\n",
       " '있는데요',\n",
       " '있습니다',\n",
       " '있어요',\n",
       " '있으면',\n",
       " '자격증',\n",
       " '자료형',\n",
       " '자바',\n",
       " '자세한',\n",
       " '자체',\n",
       " '작성',\n",
       " '작업',\n",
       " '정도',\n",
       " '조금',\n",
       " '조아라',\n",
       " '좋은',\n",
       " '주말',\n",
       " '주세요',\n",
       " '중심',\n",
       " '지거든요',\n",
       " '지식인',\n",
       " '진행',\n",
       " '처음',\n",
       " '최근',\n",
       " '추천',\n",
       " '코드',\n",
       " '코딩',\n",
       " '타이핑',\n",
       " '파이썬',\n",
       " '포기',\n",
       " '풀이',\n",
       " '프로그래밍',\n",
       " '하게',\n",
       " '하고',\n",
       " '하는',\n",
       " '하는데',\n",
       " '하는데요',\n",
       " '하다가',\n",
       " '하려',\n",
       " '하려면',\n",
       " '하면',\n",
       " '하세요',\n",
       " '하여',\n",
       " '하지만',\n",
       " '학원',\n",
       " '할려고',\n",
       " '합니다',\n",
       " '해보려고',\n",
       " '해서',\n",
       " '해야하나요',\n",
       " '해주세요',\n",
       " '해주시',\n",
       " '했더니',\n",
       " '했습니다',\n",
       " '했어요',\n",
       " '현재',\n",
       " '홀짝',\n",
       " '홀홀']"
      ]
     },
     "execution_count": 39,
     "metadata": {},
     "output_type": "execute_result"
    }
   ],
   "source": [
    "vectorizer.get_feature_names()"
   ]
  },
  {
   "cell_type": "code",
   "execution_count": 40,
   "metadata": {},
   "outputs": [
    {
     "data": {
      "text/plain": [
       "[' 파이썬 을 배우는데 좋은 방법 이 어떤 것 인지 추천 해주세요']"
      ]
     },
     "execution_count": 40,
     "metadata": {},
     "output_type": "execute_result"
    }
   ],
   "source": [
    "new_post = ['파이썬을 배우는데 좋은 방법이 어떤 것인지 추천해주세요']\n",
    "new_post_tokens = [t.morphs(row) for row in new_post]\n",
    "\n",
    "new_post_for_vectorize = []\n",
    "\n",
    "for content in new_post_tokens:\n",
    "    sentence = ''\n",
    "    for word in content:\n",
    "        sentence = sentence + ' ' + word\n",
    "        \n",
    "    new_post_for_vectorize.append(sentence)\n",
    "\n",
    "new_post_for_vectorize"
   ]
  },
  {
   "cell_type": "code",
   "execution_count": 41,
   "metadata": {},
   "outputs": [
    {
     "data": {
      "text/plain": [
       "array([[0, 0, 0, 0, 0, 0, 0, 0, 0, 0, 0, 0, 0, 0, 0, 0, 0, 0, 0, 0, 0, 0,\n",
       "        0, 0, 0, 0, 0, 0, 0, 0, 0, 0, 0, 0, 0, 0, 0, 0, 0, 0, 0, 0, 0, 0,\n",
       "        0, 0, 0, 0, 0, 0, 0, 0, 0, 0, 0, 0, 0, 0, 0, 0, 0, 0, 0, 0, 0, 0,\n",
       "        0, 0, 0, 0, 0, 0, 0, 0, 0, 0, 0, 0, 0, 0, 0, 0, 0, 0, 0, 0, 0, 0,\n",
       "        0, 0, 0, 0, 0, 0, 0, 0, 0, 0, 0, 0, 0, 0, 0, 0, 0, 0, 1, 0, 0, 0,\n",
       "        0, 0, 0, 0, 0, 0, 0, 0, 0, 0, 0, 0, 0, 0, 0, 0, 0, 0, 0, 0, 0, 0,\n",
       "        0, 0, 0, 0, 0, 0, 0, 0, 0, 0, 0, 0, 0, 0, 0, 0, 0, 1, 0, 0, 0, 0,\n",
       "        0, 0, 0, 0, 1, 0, 0, 0, 1, 0, 0, 0, 0, 0, 0, 0, 0, 0, 0, 0, 0, 0,\n",
       "        0, 0, 0, 0, 0, 0, 0, 0, 1, 0, 0, 0, 0, 0, 0, 0]])"
      ]
     },
     "execution_count": 41,
     "metadata": {},
     "output_type": "execute_result"
    }
   ],
   "source": [
    "new_post_vec = vectorizer.transform(new_post_for_vectorize)\n",
    "new_post_vec.toarray()"
   ]
  },
  {
   "cell_type": "code",
   "execution_count": 42,
   "metadata": {},
   "outputs": [],
   "source": [
    "# 유클리드 거리\n",
    "import scipy as sp\n",
    "\n",
    "def dist_raw(v1, v2):\n",
    "    delta = v1 - v2\n",
    "    return sp.linalg.norm(delta.toarray())"
   ]
  },
  {
   "cell_type": "code",
   "execution_count": 43,
   "metadata": {},
   "outputs": [
    {
     "data": {
      "text/plain": [
       "[7.14142842854285,\n",
       " 6.708203932499369,\n",
       " 6.48074069840786,\n",
       " 6.48074069840786,\n",
       " 5.5677643628300215,\n",
       " 6.48074069840786,\n",
       " 6.708203932499369,\n",
       " 6.0,\n",
       " 6.557438524302,\n",
       " 6.6332495807108]"
      ]
     },
     "execution_count": 43,
     "metadata": {},
     "output_type": "execute_result"
    }
   ],
   "source": [
    "dist = [dist_raw(each, new_post_vec) for each in X]\n",
    "dist"
   ]
  },
  {
   "cell_type": "code",
   "execution_count": 44,
   "metadata": {},
   "outputs": [
    {
     "name": "stdout",
     "output_type": "stream",
     "text": [
      "Best post is  4 dist =  5.5677643628300215\n",
      "test post is -->  ['파이썬을 배우는데 좋은 방법이 어떤 것인지 추천해주세요']\n",
      "best dist post is -->  파이썬 과제좀 알려주세요ㅠㅠ  안녕하세요. 지식인에서도 과제풀이를 해주시는 분이 계시긴 하지만... C언어, 파이썬, 자바 등의 코딩이나 프로그래밍 작업에 대해 문의줘보실 수 있는데요. 관련하여 사이트... \n"
     ]
    }
   ],
   "source": [
    "print(\"Best post is \", dist.index(min(dist)), \"dist = \", min(dist))\n",
    "print(\"test post is --> \", new_post)\n",
    "print(\"best dist post is --> \", contents[dist.index(min(dist))])"
   ]
  },
  {
   "cell_type": "code",
   "execution_count": 45,
   "metadata": {},
   "outputs": [],
   "source": [
    "# 거리를 구하는 또다른 방법 normailize\n",
    "\n",
    "def dist_norm(v1, v2):\n",
    "    v1_normalized = v1 / sp.linalg.norm(v1.toarray())\n",
    "    v2_normalized = v2 / sp.linalg.norm(v2.toarray())\n",
    "    \n",
    "    delta = v1_normalized - v2_normalized\n",
    "    \n",
    "    return sp.linalg.norm(delta.toarray())"
   ]
  },
  {
   "cell_type": "code",
   "execution_count": 46,
   "metadata": {},
   "outputs": [
    {
     "name": "stdout",
     "output_type": "stream",
     "text": [
      "Best post is  2 dist =  1.1105620748071996\n",
      "test post is -->  ['파이썬을 배우는데 좋은 방법이 어떤 것인지 추천해주세요']\n",
      "best dist post is -->  파이썬인강 보면서 방학때 공부하려 하는데요 유튭은 보다가 답답해서 포기했어요 ㅜ 괜찮은 파이썬인강 사이트 아는것 있으면 추천좀 해주세요!!! 안녕하세요~ 파이썬인강을... 아무래도 파이썬을 공부하고 싶으신데 처음 접한다면... \n"
     ]
    }
   ],
   "source": [
    "dist = [dist_norm(each, new_post_vec) for each in X]\n",
    "\n",
    "print(\"Best post is \", dist.index(min(dist)), \"dist = \", min(dist))\n",
    "print(\"test post is --> \", new_post)\n",
    "print(\"best dist post is --> \", contents[dist.index(min(dist))])"
   ]
  },
  {
   "cell_type": "markdown",
   "metadata": {},
   "source": [
    "### TF IDF"
   ]
  },
  {
   "cell_type": "code",
   "execution_count": 47,
   "metadata": {},
   "outputs": [],
   "source": [
    "# Tfidif\n",
    "def tfidf(t, d, D):\n",
    "    tf = float(d.count(t)) / sum(d.count(w) for w in set(d))\n",
    "    idf.sp.log(float(len(D))/len([doc for doc in D if t in doc]))\n",
    "    return tf * idf"
   ]
  },
  {
   "cell_type": "code",
   "execution_count": 48,
   "metadata": {},
   "outputs": [],
   "source": [
    "from sklearn.feature_extraction.text import TfidfVectorizer\n",
    "vectorizer = TfidfVectorizer(min_df=1, decode_error='ignore')"
   ]
  },
  {
   "cell_type": "code",
   "execution_count": 49,
   "metadata": {},
   "outputs": [
    {
     "data": {
      "text/plain": [
       "(10, 192)"
      ]
     },
     "execution_count": 49,
     "metadata": {},
     "output_type": "execute_result"
    }
   ],
   "source": [
    "X = vectorizer.fit_transform(contents_for_vectorize)\n",
    "X.shape"
   ]
  },
  {
   "cell_type": "code",
   "execution_count": 50,
   "metadata": {},
   "outputs": [
    {
     "data": {
      "text/plain": [
       "array([[0.        , 0.        , 0.        , 0.        , 0.        ,\n",
       "        0.        , 0.        , 0.        , 0.        , 0.        ,\n",
       "        0.        , 0.        , 0.        , 0.        , 0.        ,\n",
       "        0.        , 0.        , 0.        , 0.        , 0.        ,\n",
       "        0.        , 0.        , 0.        , 0.        , 0.        ,\n",
       "        0.        , 0.        , 0.        , 0.        , 0.        ,\n",
       "        0.        , 0.        , 0.        , 0.        , 0.        ,\n",
       "        0.        , 0.        , 0.        , 0.        , 0.        ,\n",
       "        0.        , 0.        , 0.        , 0.        , 0.        ,\n",
       "        0.        , 0.        , 0.        , 0.        , 0.        ,\n",
       "        0.        , 0.        , 0.        , 0.        , 0.        ,\n",
       "        0.        , 0.        , 0.        , 0.        , 0.        ,\n",
       "        0.        , 0.        , 0.        , 0.        , 0.        ,\n",
       "        0.        , 0.        , 0.        , 0.        , 0.        ,\n",
       "        0.        , 0.        , 0.        , 0.        , 0.        ,\n",
       "        0.        , 0.        , 0.        , 0.        , 0.        ,\n",
       "        0.        , 0.        , 0.        , 0.        , 0.        ,\n",
       "        0.        , 0.        , 0.        , 0.        , 0.        ,\n",
       "        0.        , 0.        , 0.        , 0.        , 0.        ,\n",
       "        0.        , 0.        , 0.        , 0.        , 0.        ,\n",
       "        0.        , 0.        , 0.        , 0.        , 0.        ,\n",
       "        0.        , 0.50902957, 0.        , 0.        , 0.        ,\n",
       "        0.        , 0.        , 0.        , 0.        , 0.        ,\n",
       "        0.        , 0.        , 0.        , 0.        , 0.        ,\n",
       "        0.        , 0.        , 0.        , 0.        , 0.        ,\n",
       "        0.        , 0.        , 0.        , 0.        , 0.        ,\n",
       "        0.        , 0.        , 0.        , 0.        , 0.        ,\n",
       "        0.        , 0.        , 0.        , 0.        , 0.        ,\n",
       "        0.        , 0.        , 0.        , 0.        , 0.        ,\n",
       "        0.        , 0.        , 0.        , 0.        , 0.50902957,\n",
       "        0.        , 0.        , 0.        , 0.        , 0.        ,\n",
       "        0.        , 0.        , 0.        , 0.43272164, 0.        ,\n",
       "        0.        , 0.        , 0.18819851, 0.        , 0.        ,\n",
       "        0.        , 0.        , 0.        , 0.        , 0.        ,\n",
       "        0.        , 0.        , 0.        , 0.        , 0.        ,\n",
       "        0.        , 0.        , 0.        , 0.        , 0.        ,\n",
       "        0.        , 0.        , 0.        , 0.        , 0.50902957,\n",
       "        0.        , 0.        , 0.        , 0.        , 0.        ,\n",
       "        0.        , 0.        ]])"
      ]
     },
     "execution_count": 50,
     "metadata": {},
     "output_type": "execute_result"
    }
   ],
   "source": [
    "new_post_vec = vectorizer.transform(new_post_for_vectorize)\n",
    "new_post_vec.toarray()"
   ]
  },
  {
   "cell_type": "code",
   "execution_count": 51,
   "metadata": {},
   "outputs": [
    {
     "name": "stdout",
     "output_type": "stream",
     "text": [
      "Best post is  2 dist =  1.2547305646641695\n",
      "test post is -->  ['파이썬을 배우는데 좋은 방법이 어떤 것인지 추천해주세요']\n",
      "best dist post is -->  파이썬인강 보면서 방학때 공부하려 하는데요 유튭은 보다가 답답해서 포기했어요 ㅜ 괜찮은 파이썬인강 사이트 아는것 있으면 추천좀 해주세요!!! 안녕하세요~ 파이썬인강을... 아무래도 파이썬을 공부하고 싶으신데 처음 접한다면... \n"
     ]
    }
   ],
   "source": [
    "dist = [dist_norm(each, new_post_vec) for each in X]\n",
    "\n",
    "print(\"Best post is \", dist.index(min(dist)), \"dist = \", min(dist))\n",
    "print(\"test post is --> \", new_post)\n",
    "print(\"best dist post is --> \", contents[dist.index(min(dist))])"
   ]
  },
  {
   "cell_type": "code",
   "execution_count": null,
   "metadata": {},
   "outputs": [],
   "source": []
  }
 ],
 "metadata": {
  "kernelspec": {
   "display_name": "Python 3",
   "language": "python",
   "name": "python3"
  },
  "language_info": {
   "codemirror_mode": {
    "name": "ipython",
    "version": 3
   },
   "file_extension": ".py",
   "mimetype": "text/x-python",
   "name": "python",
   "nbconvert_exporter": "python",
   "pygments_lexer": "ipython3",
   "version": "3.8.3"
  }
 },
 "nbformat": 4,
 "nbformat_minor": 4
}
